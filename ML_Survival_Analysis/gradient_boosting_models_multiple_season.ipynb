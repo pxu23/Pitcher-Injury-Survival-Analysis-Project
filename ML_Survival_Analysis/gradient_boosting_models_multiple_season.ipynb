{
 "cells": [
  {
   "metadata": {},
   "cell_type": "markdown",
   "source": [
    "## Gradient Boosting Model\n",
    "Fit the Gradient Boosting models on the survival dataframe for each of the seasons on both the pitch and game levels."
   ],
   "id": "117d05ae73d2e5a4"
  },
  {
   "cell_type": "code",
   "id": "initial_id",
   "metadata": {
    "collapsed": true,
    "ExecuteTime": {
     "end_time": "2025-02-19T21:11:15.261286Z",
     "start_time": "2025-02-19T21:11:13.484849Z"
    }
   },
   "source": [
    "import pandas as pd\n",
    "\n",
    "%matplotlib inline\n",
    "\n",
    "from sklearn import set_config\n",
    "from sksurv.ensemble import GradientBoostingSurvivalAnalysis\n",
    "\n",
    "set_config(display='text')"
   ],
   "outputs": [],
   "execution_count": 1
  },
  {
   "metadata": {},
   "cell_type": "markdown",
   "source": "## Fitting Gradient Boosting Models on each of the 2020-2023 seasonal survival dataframe at Pitch Level",
   "id": "ede7c6bd67131691"
  },
  {
   "metadata": {
    "ExecuteTime": {
     "end_time": "2025-02-19T21:11:15.280374Z",
     "start_time": "2025-02-19T21:11:15.274359Z"
    }
   },
   "cell_type": "code",
   "source": [
    "def fit_gradient_boosting_model_on_season_pitch_level(season_year, recurrence):\n",
    "    survival_df_time_invariant_pitch_level = pd.read_csv(f\"../Survival-Dataframes/Time-Invariant/survival_df_{season_year}_time_invariant_pitch_level.csv\")\n",
    "\n",
    "    survival_df_time_invariant_pitch_level.drop(columns=['player_name','previous_injury_date','next_injury_date'],\n",
    "                                                inplace=True)\n",
    "\n",
    "    if not recurrence:\n",
    "        survival_df_time_invariant_pitch_level.drop(columns=['recurrence'],inplace=True)\n",
    "\n",
    "    # the X_train for fitting the random survival forests\n",
    "    X_train = survival_df_time_invariant_pitch_level.drop(columns=['num_pitches', 'EVENT'])\n",
    "    \n",
    "    # the y_train for fitting the random survival forests\n",
    "    y_train = survival_df_time_invariant_pitch_level[['EVENT', 'num_pitches']].to_records(index=False)\n",
    "\n",
    "    # fit the random survival forest model\n",
    "    est_cph_tree = GradientBoostingSurvivalAnalysis(n_estimators=100, min_samples_split=10, min_samples_leaf=15, random_state=100)\n",
    "    est_cph_tree.fit(X_train,y_train)\n",
    "    \n",
    "    return est_cph_tree"
   ],
   "id": "aebd29b27cee37ca",
   "outputs": [],
   "execution_count": 2
  },
  {
   "metadata": {
    "ExecuteTime": {
     "end_time": "2025-02-19T21:11:15.352913Z",
     "start_time": "2025-02-19T21:11:15.346336Z"
    }
   },
   "cell_type": "code",
   "source": [
    "# held-out 2024 survival dataframe\n",
    "def evaluate_held_out_gradient_boosting_model_pitch_level(est_cph_tree, held_out_season_year, recurrence):\n",
    "    survival_df_held_out_time_invariant_pitch_level = pd.read_csv(f\"../Survival-Dataframes/Time-Invariant/\"                                                          f\"survival_df_{held_out_season_year}_time_invariant_pitch_level.csv\")\n",
    "    survival_df_held_out_time_invariant_pitch_level.drop(columns=['player_name', 'previous_injury_date', 'next_injury_date'],inplace=True)\n",
    "\n",
    "    if not recurrence:\n",
    "        survival_df_held_out_time_invariant_pitch_level.drop(columns=['recurrence'],inplace=True)\n",
    "\n",
    "    X_test = survival_df_held_out_time_invariant_pitch_level.drop(columns = ['num_pitches', 'EVENT'])\n",
    "    y_test = survival_df_held_out_time_invariant_pitch_level[['EVENT', 'num_pitches']].to_records(index=False)\n",
    "\n",
    "    concordance_score_gradient_boosting_model_held_out = est_cph_tree.score(X_test, y_test)\n",
    "    return concordance_score_gradient_boosting_model_held_out"
   ],
   "id": "a5cd6a3a21bd8c10",
   "outputs": [],
   "execution_count": 3
  },
  {
   "metadata": {
    "ExecuteTime": {
     "end_time": "2025-02-19T21:11:15.864585Z",
     "start_time": "2025-02-19T21:11:15.367640Z"
    }
   },
   "cell_type": "code",
   "source": [
    "est_cph_tree_pitch_level_2020 = fit_gradient_boosting_model_on_season_pitch_level(\"2020\", recurrence=False)\n",
    "held_out_concordance_est_cph_tree_pitch_level_2021 = evaluate_held_out_gradient_boosting_model_pitch_level(est_cph_tree_pitch_level_2020, \"2021\",\n",
    "                                                                                                           recurrence=False)\n",
    "print(f\"The Concordance Index of the Gradient Boosting Model fitted on the 2020 season on pitch level on the 2021 survival dataframe is {round(held_out_concordance_est_cph_tree_pitch_level_2021,2)}\")"
   ],
   "id": "81786a336498b61c",
   "outputs": [
    {
     "name": "stdout",
     "output_type": "stream",
     "text": [
      "The Concordance Index of the Gradient Boosting Model fitted on the 2020 season on pitch level on the 2021 survival dataframe is 0.53\n"
     ]
    }
   ],
   "execution_count": 4
  },
  {
   "metadata": {
    "ExecuteTime": {
     "end_time": "2025-02-19T21:11:16.386100Z",
     "start_time": "2025-02-19T21:11:15.876234Z"
    }
   },
   "cell_type": "code",
   "source": [
    "est_cph_tree_pitch_level_2020_recurrence = fit_gradient_boosting_model_on_season_pitch_level(\"2020\", recurrence=True)\n",
    "held_out_concordance_est_cph_tree_pitch_level_2021_recurrence = evaluate_held_out_gradient_boosting_model_pitch_level(est_cph_tree_pitch_level_2020_recurrence, \"2021\", recurrence=True)\n",
    "print(f\"The Concordance Index of the Gradient Boosting Model with recurrence fitted on the 2020 season on pitch level on the 2021 survival dataframe is {round(held_out_concordance_est_cph_tree_pitch_level_2021_recurrence,2)}\")"
   ],
   "id": "e9511895ffbaa0ef",
   "outputs": [
    {
     "name": "stdout",
     "output_type": "stream",
     "text": [
      "The Concordance Index of the Gradient Boosting Model with recurrence fitted on the 2020 season on pitch level on the 2021 survival dataframe is 0.65\n"
     ]
    }
   ],
   "execution_count": 5
  },
  {
   "metadata": {
    "ExecuteTime": {
     "end_time": "2025-02-19T21:11:17.373883Z",
     "start_time": "2025-02-19T21:11:16.414688Z"
    }
   },
   "cell_type": "code",
   "source": [
    "est_cph_tree_pitch_level_2021 = fit_gradient_boosting_model_on_season_pitch_level(\"2021\", recurrence=False)\n",
    "held_out_concordance_est_cph_tree_pitch_level_2022 = evaluate_held_out_gradient_boosting_model_pitch_level(est_cph_tree_pitch_level_2021, \"2022\", recurrence=False)\n",
    "print(f\"The Concordance Index of the Gradient Boosting Model fitted on the 2021 season on pitch level on the 2022 survival dataframe is {round(held_out_concordance_est_cph_tree_pitch_level_2022,2)}\")"
   ],
   "id": "d2c5167905e3cd40",
   "outputs": [
    {
     "name": "stdout",
     "output_type": "stream",
     "text": [
      "The Concordance Index of the Gradient Boosting Model fitted on the 2021 season on pitch level on the 2022 survival dataframe is 0.56\n"
     ]
    }
   ],
   "execution_count": 6
  },
  {
   "metadata": {
    "ExecuteTime": {
     "end_time": "2025-02-19T21:11:18.308307Z",
     "start_time": "2025-02-19T21:11:17.379095Z"
    }
   },
   "cell_type": "code",
   "source": [
    "est_cph_tree_pitch_level_2021_recurrence = fit_gradient_boosting_model_on_season_pitch_level(\"2021\", recurrence=True)\n",
    "held_out_concordance_est_cph_tree_pitch_level_2022_recurrence = evaluate_held_out_gradient_boosting_model_pitch_level(est_cph_tree_pitch_level_2021_recurrence, \"2022\", recurrence=True)\n",
    "print(f\"The Concordance Index of the Gradient Boosting Model with recurrence fitted on the 2021 season on pitch level on the 2022 survival dataframe is {round(held_out_concordance_est_cph_tree_pitch_level_2022_recurrence,2)}\")"
   ],
   "id": "c9cc6b67beb5235d",
   "outputs": [
    {
     "name": "stdout",
     "output_type": "stream",
     "text": [
      "The Concordance Index of the Gradient Boosting Model with recurrence fitted on the 2021 season on pitch level on the 2022 survival dataframe is 0.65\n"
     ]
    }
   ],
   "execution_count": 7
  },
  {
   "metadata": {
    "ExecuteTime": {
     "end_time": "2025-02-19T21:11:19.201957Z",
     "start_time": "2025-02-19T21:11:18.324730Z"
    }
   },
   "cell_type": "code",
   "source": [
    "est_cph_tree_pitch_level_2022 = fit_gradient_boosting_model_on_season_pitch_level(\"2022\", recurrence=False)\n",
    "held_out_concordance_est_cph_tree_pitch_level_2023 = evaluate_held_out_gradient_boosting_model_pitch_level(est_cph_tree_pitch_level_2022, \"2023\",\n",
    "                                                                                                           recurrence=False)\n",
    "print(f\"The Concordance Index of the Gradient Boosting Model fitted on the 2022 season on pitch level on the 2023 survival dataframe is {round(held_out_concordance_est_cph_tree_pitch_level_2023,2)}\")"
   ],
   "id": "ee11aba07ef33b99",
   "outputs": [
    {
     "name": "stdout",
     "output_type": "stream",
     "text": [
      "The Concordance Index of the Gradient Boosting Model fitted on the 2022 season on pitch level on the 2023 survival dataframe is 0.57\n"
     ]
    }
   ],
   "execution_count": 8
  },
  {
   "metadata": {
    "ExecuteTime": {
     "end_time": "2025-02-19T21:11:20.030428Z",
     "start_time": "2025-02-19T21:11:19.213906Z"
    }
   },
   "cell_type": "code",
   "source": [
    "est_cph_tree_pitch_level_2022_recurrence = fit_gradient_boosting_model_on_season_pitch_level(\"2022\", recurrence=True)\n",
    "held_out_concordance_est_cph_tree_pitch_level_2023_recurrence = evaluate_held_out_gradient_boosting_model_pitch_level(est_cph_tree_pitch_level_2022_recurrence, \"2023\", recurrence=True)\n",
    "print(f\"The Concordance Index of the Gradient Boosting Model with recurrence fitted on the 2022 season on pitch level on the 2023 survival dataframe is {round(held_out_concordance_est_cph_tree_pitch_level_2023_recurrence,2)}\")"
   ],
   "id": "3a4c0a5b5a74b0ec",
   "outputs": [
    {
     "name": "stdout",
     "output_type": "stream",
     "text": [
      "The Concordance Index of the Gradient Boosting Model with recurrence fitted on the 2022 season on pitch level on the 2023 survival dataframe is 0.64\n"
     ]
    }
   ],
   "execution_count": 9
  },
  {
   "metadata": {
    "ExecuteTime": {
     "end_time": "2025-02-19T21:11:20.819050Z",
     "start_time": "2025-02-19T21:11:20.043144Z"
    }
   },
   "cell_type": "code",
   "source": [
    "est_cph_tree_pitch_level_2023 = fit_gradient_boosting_model_on_season_pitch_level(\"2023\", recurrence=False)\n",
    "held_out_concordance_est_cph_tree_pitch_level_2024 = evaluate_held_out_gradient_boosting_model_pitch_level(est_cph_tree_pitch_level_2023, \"2024\",\n",
    "                                                                                                           recurrence=False)\n",
    "print(f\"The Concordance Index of the Gradient Boosting Model fitted on the 2023 season on pitch level on the 2024 survival dataframe is {round(held_out_concordance_est_cph_tree_pitch_level_2024,2)}\")"
   ],
   "id": "ad86360c8187e6f0",
   "outputs": [
    {
     "name": "stdout",
     "output_type": "stream",
     "text": [
      "The Concordance Index of the Gradient Boosting Model fitted on the 2023 season on pitch level on the 2024 survival dataframe is 0.5\n"
     ]
    }
   ],
   "execution_count": 10
  },
  {
   "metadata": {
    "ExecuteTime": {
     "end_time": "2025-02-19T21:11:21.622112Z",
     "start_time": "2025-02-19T21:11:20.841357Z"
    }
   },
   "cell_type": "code",
   "source": [
    "est_cph_tree_pitch_level_2023_recurrence = fit_gradient_boosting_model_on_season_pitch_level(\"2023\", recurrence=True)\n",
    "held_out_concordance_est_cph_tree_pitch_level_2024_recurrence = evaluate_held_out_gradient_boosting_model_pitch_level(est_cph_tree_pitch_level_2023_recurrence, \"2024\",recurrence=True)\n",
    "print(f\"The Concordance Index of the Gradient Boosting Model with recurrence fitted on the 2023 season on pitch level on the 2024 survival dataframe is {round(held_out_concordance_est_cph_tree_pitch_level_2024_recurrence,2)}\")"
   ],
   "id": "44a504879b07125",
   "outputs": [
    {
     "name": "stdout",
     "output_type": "stream",
     "text": [
      "The Concordance Index of the Gradient Boosting Model with recurrence fitted on the 2023 season on pitch level on the 2024 survival dataframe is 0.63\n"
     ]
    }
   ],
   "execution_count": 11
  },
  {
   "metadata": {},
   "cell_type": "markdown",
   "source": "## Fitting Gradient Boosting Model on each of the 2020-2023 seasonal survival dataframe at Game Level",
   "id": "1404e4778e9e517f"
  },
  {
   "metadata": {
    "ExecuteTime": {
     "end_time": "2025-02-19T21:11:21.648141Z",
     "start_time": "2025-02-19T21:11:21.641598Z"
    }
   },
   "cell_type": "code",
   "source": [
    "def fit_gradient_boosting_model_on_season_game_level(season_year, recurrence):\n",
    "    survival_df_time_invariant_game_level = pd.read_csv(f\"../Survival-Dataframes/Time-Invariant/survival_df_{season_year}_time_invariant_game_level.csv\")\n",
    "\n",
    "    survival_df_time_invariant_game_level.drop(columns=['player_name', 'previous_injury_date', 'next_injury_date'],inplace=True)\n",
    "\n",
    "    if not recurrence:\n",
    "        survival_df_time_invariant_game_level.drop(columns=['recurrence'],inplace=True)\n",
    "\n",
    "    # the X_train for fitting the random survival forests\n",
    "    X_train = survival_df_time_invariant_game_level.drop(columns=['num_games', 'EVENT'])\n",
    "\n",
    "    # the y_train for fitting the random survival forests\n",
    "    y_train = survival_df_time_invariant_game_level[['EVENT', 'num_games']].to_records(index=False)\n",
    "\n",
    "    # fit the random survival forest model\n",
    "    est_cph_tree = GradientBoostingSurvivalAnalysis(n_estimators=100, min_samples_split=10, min_samples_leaf=15,random_state=100)\n",
    "    est_cph_tree.fit(X_train,y_train)\n",
    "\n",
    "    return est_cph_tree"
   ],
   "id": "c8e870ebabd2af17",
   "outputs": [],
   "execution_count": 12
  },
  {
   "metadata": {
    "ExecuteTime": {
     "end_time": "2025-02-19T21:11:21.677769Z",
     "start_time": "2025-02-19T21:11:21.671585Z"
    }
   },
   "cell_type": "code",
   "source": [
    "# held-out 2024 survival dataframe\n",
    "def evaluate_held_out_gradient_boosting_model_game_level(est_cph_tree, held_out_season_year, recurrence):\n",
    "    survival_df_held_out_time_invariant_game_level = pd.read_csv(f\"../Survival-Dataframes/Time-Invariant/\"\n",
    "                                                                 f\"survival_df_{held_out_season_year}_time_invariant_game_level.csv\")\n",
    "\n",
    "    survival_df_held_out_time_invariant_game_level.drop(columns=['player_name','previous_injury_date', 'next_injury_date'],inplace=True)\n",
    "\n",
    "    if not recurrence:\n",
    "        survival_df_held_out_time_invariant_game_level.drop(columns=['recurrence'], inplace=True)\n",
    "\n",
    "    X_test = survival_df_held_out_time_invariant_game_level.drop(columns = ['num_games', 'EVENT'])\n",
    "    y_test = survival_df_held_out_time_invariant_game_level[['EVENT', 'num_games']].to_records(index=False)\n",
    "\n",
    "    concordance_score_gradient_boosting_model_held_out = est_cph_tree.score(X_test, y_test)\n",
    "    return concordance_score_gradient_boosting_model_held_out"
   ],
   "id": "f4d8f2a624b09163",
   "outputs": [],
   "execution_count": 13
  },
  {
   "metadata": {
    "ExecuteTime": {
     "end_time": "2025-02-19T21:11:22.166635Z",
     "start_time": "2025-02-19T21:11:21.703141Z"
    }
   },
   "cell_type": "code",
   "source": [
    "est_cph_tree_game_level_2020 = fit_gradient_boosting_model_on_season_game_level(\"2020\", recurrence=False)\n",
    "held_out_concordance_est_cph_tree_game_level_2021 = evaluate_held_out_gradient_boosting_model_game_level(est_cph_tree_game_level_2020, \"2021\",\n",
    "                                                                                                         recurrence=False)\n",
    "print(f\"The Concordance Index of the Gradient Boosting Model fitted on the 2020 season on game level on the 2021 survival dataframe is {round(held_out_concordance_est_cph_tree_game_level_2021,2)}\")"
   ],
   "id": "11386b085ce1495",
   "outputs": [
    {
     "name": "stdout",
     "output_type": "stream",
     "text": [
      "The Concordance Index of the Gradient Boosting Model fitted on the 2020 season on game level on the 2021 survival dataframe is 0.53\n"
     ]
    }
   ],
   "execution_count": 14
  },
  {
   "metadata": {
    "ExecuteTime": {
     "end_time": "2025-02-19T21:11:22.955899Z",
     "start_time": "2025-02-19T21:11:22.175689Z"
    }
   },
   "cell_type": "code",
   "source": [
    "est_cph_tree_game_level_2020_recurrence = fit_gradient_boosting_model_on_season_game_level(\"2020\", recurrence=True)\n",
    "held_out_concordance_est_cph_tree_game_level_2021_recurrence = evaluate_held_out_gradient_boosting_model_game_level(est_cph_tree_game_level_2020_recurrence, \"2021\", recurrence=True)\n",
    "print(f\"The Concordance Index of the Gradient Boosting Model with recurrence fitted on the 2020 season on game level on the 2021 survival dataframe is {round(held_out_concordance_est_cph_tree_game_level_2021_recurrence,2)}\")"
   ],
   "id": "e99d6b6da7a053ab",
   "outputs": [
    {
     "name": "stdout",
     "output_type": "stream",
     "text": [
      "The Concordance Index of the Gradient Boosting Model with recurrence fitted on the 2020 season on game level on the 2021 survival dataframe is 0.86\n"
     ]
    }
   ],
   "execution_count": 15
  },
  {
   "metadata": {
    "ExecuteTime": {
     "end_time": "2025-02-19T21:11:24.057734Z",
     "start_time": "2025-02-19T21:11:22.973833Z"
    }
   },
   "cell_type": "code",
   "source": [
    "est_cph_tree_game_level_2021 = fit_gradient_boosting_model_on_season_game_level(\"2021\", recurrence=False)\n",
    "held_out_concordance_est_cph_tree_game_level_2022 = evaluate_held_out_gradient_boosting_model_game_level(est_cph_tree_game_level_2021, \"2022\", recurrence=False)\n",
    "print(f\"The Concordance Index of the Gradient Boosting Model fitted on the 2021 season on game level on the 2022 survival dataframe is {round(held_out_concordance_est_cph_tree_game_level_2022,2)}\")"
   ],
   "id": "28db22059f09c025",
   "outputs": [
    {
     "name": "stdout",
     "output_type": "stream",
     "text": [
      "The Concordance Index of the Gradient Boosting Model fitted on the 2021 season on game level on the 2022 survival dataframe is 0.55\n"
     ]
    }
   ],
   "execution_count": 16
  },
  {
   "metadata": {
    "ExecuteTime": {
     "end_time": "2025-02-19T21:11:25.136844Z",
     "start_time": "2025-02-19T21:11:24.073003Z"
    }
   },
   "cell_type": "code",
   "source": [
    "est_cph_tree_game_level_2021_recurrence = fit_gradient_boosting_model_on_season_game_level(\"2021\", recurrence=True)\n",
    "held_out_concordance_est_cph_tree_game_level_2022_recurrence = evaluate_held_out_gradient_boosting_model_game_level(est_cph_tree_game_level_2021_recurrence, \"2022\", recurrence=True)\n",
    "print(f\"The Concordance Index of the Gradient Boosting Model with recurrence fitted on the 2021 season on game level on the 2022 survival dataframe is {round(held_out_concordance_est_cph_tree_game_level_2022_recurrence,2)}\")"
   ],
   "id": "8c180423b428ca3e",
   "outputs": [
    {
     "name": "stdout",
     "output_type": "stream",
     "text": [
      "The Concordance Index of the Gradient Boosting Model with recurrence fitted on the 2021 season on game level on the 2022 survival dataframe is 0.86\n"
     ]
    }
   ],
   "execution_count": 17
  },
  {
   "metadata": {
    "ExecuteTime": {
     "end_time": "2025-02-19T21:11:26.191862Z",
     "start_time": "2025-02-19T21:11:25.162584Z"
    }
   },
   "cell_type": "code",
   "source": [
    "est_cph_tree_game_level_2022 = fit_gradient_boosting_model_on_season_game_level(\"2022\", recurrence=False)\n",
    "held_out_concordance_est_cph_tree_game_level_2023 = evaluate_held_out_gradient_boosting_model_game_level(est_cph_tree_game_level_2022, \"2023\", recurrence=False)\n",
    "print(f\"The Concordance Index of the Gradient Boosting Model fitted on the 2022 season on game level on the 2023 survival dataframe is {round(held_out_concordance_est_cph_tree_game_level_2023,2)}\")"
   ],
   "id": "4db8903b32ca831b",
   "outputs": [
    {
     "name": "stdout",
     "output_type": "stream",
     "text": [
      "The Concordance Index of the Gradient Boosting Model fitted on the 2022 season on game level on the 2023 survival dataframe is 0.56\n"
     ]
    }
   ],
   "execution_count": 18
  },
  {
   "metadata": {
    "ExecuteTime": {
     "end_time": "2025-02-19T21:11:27.186938Z",
     "start_time": "2025-02-19T21:11:26.197879Z"
    }
   },
   "cell_type": "code",
   "source": [
    "est_cph_tree_game_level_2022_recurrence = fit_gradient_boosting_model_on_season_game_level(\"2022\", recurrence=True)\n",
    "held_out_concordance_est_cph_tree_game_level_2023_recurrence = evaluate_held_out_gradient_boosting_model_game_level(est_cph_tree_game_level_2022_recurrence, \"2023\", recurrence=True)\n",
    "print(f\"The Concordance Index of the Gradient Boosting Model with recurrence fitted on the 2022 season on game level on the 2023 survival dataframe is {round(held_out_concordance_est_cph_tree_game_level_2023_recurrence,2)}\")"
   ],
   "id": "ac93549adbe04e9",
   "outputs": [
    {
     "name": "stdout",
     "output_type": "stream",
     "text": [
      "The Concordance Index of the Gradient Boosting Model with recurrence fitted on the 2022 season on game level on the 2023 survival dataframe is 0.86\n"
     ]
    }
   ],
   "execution_count": 19
  },
  {
   "metadata": {
    "ExecuteTime": {
     "end_time": "2025-02-19T21:11:28.146707Z",
     "start_time": "2025-02-19T21:11:27.203059Z"
    }
   },
   "cell_type": "code",
   "source": [
    "est_cph_tree_game_level_2023 = fit_gradient_boosting_model_on_season_game_level(\"2023\", recurrence=False)\n",
    "held_out_concordance_est_cph_tree_game_level_2024 = evaluate_held_out_gradient_boosting_model_game_level(est_cph_tree_game_level_2023, \"2024\", recurrence=False)\n",
    "print(f\"The Concordance Index of the Gradient Boosting Model fitted on the 2023 season on game level on the 2024 survival dataframe is {round(held_out_concordance_est_cph_tree_game_level_2024,2)}\")"
   ],
   "id": "8d97741049364bf7",
   "outputs": [
    {
     "name": "stdout",
     "output_type": "stream",
     "text": [
      "The Concordance Index of the Gradient Boosting Model fitted on the 2023 season on game level on the 2024 survival dataframe is 0.57\n"
     ]
    }
   ],
   "execution_count": 20
  },
  {
   "metadata": {
    "ExecuteTime": {
     "end_time": "2025-02-19T21:11:29.133953Z",
     "start_time": "2025-02-19T21:11:28.164596Z"
    }
   },
   "cell_type": "code",
   "source": [
    "est_cph_tree_game_level_2023_recurrence = fit_gradient_boosting_model_on_season_game_level(\"2023\", recurrence=True)\n",
    "held_out_concordance_est_cph_tree_game_level_2024_recurrence = evaluate_held_out_gradient_boosting_model_game_level(est_cph_tree_game_level_2023_recurrence, \"2024\", recurrence=True)\n",
    "print(f\"The Concordance Index of the Gradient Boosting Model with recurrence fitted on the 2023 season on game level on the 2024 survival dataframe is {round(held_out_concordance_est_cph_tree_game_level_2024_recurrence,2)}\")"
   ],
   "id": "7759d4bd48fe6359",
   "outputs": [
    {
     "name": "stdout",
     "output_type": "stream",
     "text": [
      "The Concordance Index of the Gradient Boosting Model with recurrence fitted on the 2023 season on game level on the 2024 survival dataframe is 0.87\n"
     ]
    }
   ],
   "execution_count": 21
  }
 ],
 "metadata": {
  "kernelspec": {
   "display_name": "Python 3",
   "language": "python",
   "name": "python3"
  },
  "language_info": {
   "codemirror_mode": {
    "name": "ipython",
    "version": 2
   },
   "file_extension": ".py",
   "mimetype": "text/x-python",
   "name": "python",
   "nbconvert_exporter": "python",
   "pygments_lexer": "ipython2",
   "version": "2.7.6"
  }
 },
 "nbformat": 4,
 "nbformat_minor": 5
}
