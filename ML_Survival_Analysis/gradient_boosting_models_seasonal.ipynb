{
 "cells": [
  {
   "metadata": {},
   "cell_type": "markdown",
   "source": [
    "## Gradient Boosting Model\n",
    "Fit the Gradient Boosting models on the survival dataframe for each of the seasons on both the pitch and game levels."
   ],
   "id": "117d05ae73d2e5a4"
  },
  {
   "cell_type": "code",
   "id": "initial_id",
   "metadata": {
    "collapsed": true,
    "ExecuteTime": {
     "end_time": "2024-11-05T23:02:31.079765Z",
     "start_time": "2024-11-05T23:02:29.112565Z"
    }
   },
   "source": [
    "import pandas as pd\n",
    "%matplotlib inline\n",
    "\n",
    "from sklearn import set_config\n",
    "from sksurv.ensemble import GradientBoostingSurvivalAnalysis\n",
    "\n",
    "set_config(display='text')"
   ],
   "outputs": [
    {
     "name": "stderr",
     "output_type": "stream",
     "text": [
      "C:\\Users\\peiyu\\anaconda3\\Lib\\site-packages\\pandas\\core\\arrays\\masked.py:60: UserWarning: Pandas requires version '1.3.6' or newer of 'bottleneck' (version '1.3.5' currently installed).\n",
      "  from pandas.core import (\n"
     ]
    }
   ],
   "execution_count": 1
  },
  {
   "metadata": {},
   "cell_type": "markdown",
   "source": "## Fitting Gradient Boosting Models on each of the 2020-2023 seasonal survival dataframe at Pitch Level",
   "id": "ede7c6bd67131691"
  },
  {
   "metadata": {
    "ExecuteTime": {
     "end_time": "2024-11-05T23:02:31.085829Z",
     "start_time": "2024-11-05T23:02:31.080771Z"
    }
   },
   "cell_type": "code",
   "source": [
    "def fit_gradient_boosting_model_on_season_pitch_level(season_year):\n",
    "    survival_df_time_invariant_pitch_level = pd.read_csv(f\"../Time-Invariant-Survival-Analysis/survival_df_{season_year}_time_invariant_pitch_level.csv\")\n",
    "    \n",
    "    # the X_train for fitting the random survival forests\n",
    "    X_train = survival_df_time_invariant_pitch_level.drop(columns=['Pitches', 'EVENT'])\n",
    "    \n",
    "    # the y_train for fitting the random survival forests\n",
    "    y_train = survival_df_time_invariant_pitch_level[['EVENT', 'Pitches']].to_records(index=False)\n",
    "\n",
    "    # fit the random survival forest model\n",
    "    est_cph_tree = GradientBoostingSurvivalAnalysis(n_estimators=100, min_samples_split=10, min_samples_leaf=15, random_state=100)\n",
    "    est_cph_tree.fit(X_train,y_train)\n",
    "    \n",
    "    return est_cph_tree"
   ],
   "id": "aebd29b27cee37ca",
   "outputs": [],
   "execution_count": 2
  },
  {
   "metadata": {},
   "cell_type": "markdown",
   "source": "### Evaluate the performance of the Random Survival Forest Model on the held-out survival dataframe for injured players for each of the seasonal models.",
   "id": "53db952029b1bd26"
  },
  {
   "metadata": {
    "ExecuteTime": {
     "end_time": "2024-11-05T23:02:31.097247Z",
     "start_time": "2024-11-05T23:02:31.086032Z"
    }
   },
   "cell_type": "code",
   "source": [
    "# held-out 2024 survival dataframe\n",
    "def evaluate_held_out_gradient_boosting_model_pitch_level(est_cph_tree, held_out_season_year):\n",
    "    survival_df_held_out_time_invariant_pitch_level = pd.read_csv(f\"../Time-Invariant-Survival-Analysis/\"                                                          f\"survival_df_{held_out_season_year}_time_invariant_pitch_level.csv\")\n",
    "    X_test = survival_df_held_out_time_invariant_pitch_level.drop(columns = ['Pitches', 'EVENT'])\n",
    "    y_test = survival_df_held_out_time_invariant_pitch_level[['EVENT', 'Pitches']].to_records(index=False)\n",
    "\n",
    "    concordance_score_gradient_boosting_model_held_out = est_cph_tree.score(X_test, y_test)\n",
    "    return concordance_score_gradient_boosting_model_held_out"
   ],
   "id": "a5cd6a3a21bd8c10",
   "outputs": [],
   "execution_count": 3
  },
  {
   "metadata": {
    "ExecuteTime": {
     "end_time": "2024-11-05T23:02:31.382458Z",
     "start_time": "2024-11-05T23:02:31.098309Z"
    }
   },
   "cell_type": "code",
   "source": [
    "est_cph_tree_pitch_level_2020 = fit_gradient_boosting_model_on_season_pitch_level(\"2020\")\n",
    "held_out_concordance_est_cph_tree_pitch_level_2021 = evaluate_held_out_gradient_boosting_model_pitch_level(est_cph_tree_pitch_level_2020, \"2021\")\n",
    "print(f\"The Concordance Index of the Gradient Boosting Model fitted on the 2020 season on pitch level on the 2021 survival dataframe is {round(held_out_concordance_est_cph_tree_pitch_level_2021,2)}\")"
   ],
   "id": "81786a336498b61c",
   "outputs": [
    {
     "name": "stdout",
     "output_type": "stream",
     "text": [
      "The Concordance Index of the Gradient Boosting Model fitted on the 2020 season on pitch level on the 2021 survival dataframe is 0.62\n"
     ]
    }
   ],
   "execution_count": 4
  },
  {
   "metadata": {
    "ExecuteTime": {
     "end_time": "2024-11-05T23:02:32.517694Z",
     "start_time": "2024-11-05T23:02:31.385865Z"
    }
   },
   "cell_type": "code",
   "source": [
    "est_cph_tree_pitch_level_2021 = fit_gradient_boosting_model_on_season_pitch_level(\"2021\")\n",
    "held_out_concordance_est_cph_tree_pitch_level_2022 = evaluate_held_out_gradient_boosting_model_pitch_level(est_cph_tree_pitch_level_2021, \"2022\")\n",
    "print(f\"The Concordance Index of the Gradient Boosting Model fitted on the 2021 season on pitch level on the 2022 survival dataframe is {round(held_out_concordance_est_cph_tree_pitch_level_2022,2)}\")"
   ],
   "id": "d2c5167905e3cd40",
   "outputs": [
    {
     "name": "stdout",
     "output_type": "stream",
     "text": [
      "The Concordance Index of the Gradient Boosting Model fitted on the 2021 season on pitch level on the 2022 survival dataframe is 0.67\n"
     ]
    }
   ],
   "execution_count": 5
  },
  {
   "metadata": {
    "ExecuteTime": {
     "end_time": "2024-11-05T23:02:33.441131Z",
     "start_time": "2024-11-05T23:02:32.518710Z"
    }
   },
   "cell_type": "code",
   "source": [
    "est_cph_tree_pitch_level_2022 = fit_gradient_boosting_model_on_season_pitch_level(\"2022\")\n",
    "held_out_concordance_est_cph_tree_pitch_level_2023 = evaluate_held_out_gradient_boosting_model_pitch_level(est_cph_tree_pitch_level_2022, \"2023\")\n",
    "print(f\"The Concordance Index of the Gradient Boosting Model fitted on the 2022 season on pitch level on the 2023 survival dataframe is {round(held_out_concordance_est_cph_tree_pitch_level_2023,2)}\")"
   ],
   "id": "ee11aba07ef33b99",
   "outputs": [
    {
     "name": "stdout",
     "output_type": "stream",
     "text": [
      "The Concordance Index of the Gradient Boosting Model fitted on the 2022 season on pitch level on the 2023 survival dataframe is 0.67\n"
     ]
    }
   ],
   "execution_count": 6
  },
  {
   "metadata": {
    "ExecuteTime": {
     "end_time": "2024-11-05T23:02:34.066789Z",
     "start_time": "2024-11-05T23:02:33.443143Z"
    }
   },
   "cell_type": "code",
   "source": [
    "est_cph_tree_pitch_level_2023 = fit_gradient_boosting_model_on_season_pitch_level(\"2023\")\n",
    "held_out_concordance_est_cph_tree_pitch_level_2024 = evaluate_held_out_gradient_boosting_model_pitch_level(est_cph_tree_pitch_level_2023, \"2024\")\n",
    "print(f\"The Concordance Index of the Gradient Boosting Model fitted on the 2023 season on pitch level on the 2024 survival dataframe is {round(held_out_concordance_est_cph_tree_pitch_level_2024,2)}\")"
   ],
   "id": "ad86360c8187e6f0",
   "outputs": [
    {
     "name": "stdout",
     "output_type": "stream",
     "text": [
      "The Concordance Index of the Gradient Boosting Model fitted on the 2023 season on pitch level on the 2024 survival dataframe is 0.65\n"
     ]
    }
   ],
   "execution_count": 7
  },
  {
   "metadata": {},
   "cell_type": "markdown",
   "source": "## Fitting Random Survival Forest Model on each of the 2020-2023 seasonal survival dataframe at Game Level",
   "id": "1404e4778e9e517f"
  },
  {
   "metadata": {
    "ExecuteTime": {
     "end_time": "2024-11-05T23:02:34.075699Z",
     "start_time": "2024-11-05T23:02:34.068801Z"
    }
   },
   "cell_type": "code",
   "source": [
    "def fit_gradient_boosting_model_on_season_game_level(season_year):\n",
    "    survival_df_time_invariant_game_level = pd.read_csv(f\"../Time-Invariant-Survival-Analysis/survival_df_{season_year}_time_invariant_game_level.csv\")\n",
    "\n",
    "    # the X_train for fitting the random survival forests\n",
    "    X_train = survival_df_time_invariant_game_level.drop(columns=['Games', 'EVENT'])\n",
    "\n",
    "    # the y_train for fitting the random survival forests\n",
    "    y_train = survival_df_time_invariant_game_level[['EVENT', 'Games']].to_records(index=False)\n",
    "\n",
    "    # fit the random survival forest model\n",
    "    est_cph_tree = GradientBoostingSurvivalAnalysis(n_estimators=100, min_samples_split=10, min_samples_leaf=15,random_state=100)\n",
    "    est_cph_tree.fit(X_train,y_train)\n",
    "\n",
    "    return est_cph_tree"
   ],
   "id": "c8e870ebabd2af17",
   "outputs": [],
   "execution_count": 8
  },
  {
   "metadata": {},
   "cell_type": "markdown",
   "source": "### Evaluate the performance of the Random Survival Forest Model on the held-out survival dataframe for injured players for each of the seasonal models at game level",
   "id": "cf47124c47d636e0"
  },
  {
   "metadata": {
    "ExecuteTime": {
     "end_time": "2024-11-05T23:02:34.089096Z",
     "start_time": "2024-11-05T23:02:34.076966Z"
    }
   },
   "cell_type": "code",
   "source": [
    "# held-out 2024 survival dataframe\n",
    "def evaluate_held_out_gradient_boosting_model_game_level(est_cph_tree, held_out_season_year):\n",
    "    survival_df_held_out_time_invariant_game_level = pd.read_csv(f\"../Time-Invariant-Survival-Analysis/\"\n",
    "                                                                  f\"survival_df_{held_out_season_year}_time_invariant_game_level.csv\")\n",
    "    X_test = survival_df_held_out_time_invariant_game_level.drop(columns = ['Games', 'EVENT'])\n",
    "    y_test = survival_df_held_out_time_invariant_game_level[['EVENT', 'Games']].to_records(index=False)\n",
    "\n",
    "    concordance_score_gradient_boosting_model_held_out = est_cph_tree.score(X_test, y_test)\n",
    "    return concordance_score_gradient_boosting_model_held_out"
   ],
   "id": "f4d8f2a624b09163",
   "outputs": [],
   "execution_count": 9
  },
  {
   "metadata": {
    "ExecuteTime": {
     "end_time": "2024-11-05T23:02:34.339634Z",
     "start_time": "2024-11-05T23:02:34.090102Z"
    }
   },
   "cell_type": "code",
   "source": [
    "est_cph_tree_game_level_2020 = fit_gradient_boosting_model_on_season_game_level(\"2020\")\n",
    "held_out_concordance_est_cph_tree_game_level_2021 = evaluate_held_out_gradient_boosting_model_game_level(est_cph_tree_game_level_2020, \"2021\")\n",
    "print(f\"The Concordance Index of the Gradient Boosting Model fitted on the 2020 season on game level on the 2021 survival dataframe is {round(held_out_concordance_est_cph_tree_game_level_2021,2)}\")"
   ],
   "id": "11386b085ce1495",
   "outputs": [
    {
     "name": "stdout",
     "output_type": "stream",
     "text": [
      "The Concordance Index of the Gradient Boosting Model fitted on the 2020 season on game level on the 2021 survival dataframe is 0.62\n"
     ]
    }
   ],
   "execution_count": 10
  },
  {
   "metadata": {
    "ExecuteTime": {
     "end_time": "2024-11-05T23:02:35.288593Z",
     "start_time": "2024-11-05T23:02:34.340646Z"
    }
   },
   "cell_type": "code",
   "source": [
    "est_cph_tree_game_level_2021 = fit_gradient_boosting_model_on_season_game_level(\"2021\")\n",
    "held_out_concordance_est_cph_tree_game_level_2022 = evaluate_held_out_gradient_boosting_model_game_level(est_cph_tree_game_level_2021, \"2022\")\n",
    "print(f\"The Concordance Index of the Gradient Boosting Model fitted on the 2021 season on game level on the 2022 survival dataframe is {round(held_out_concordance_est_cph_tree_game_level_2022,2)}\")"
   ],
   "id": "28db22059f09c025",
   "outputs": [
    {
     "name": "stdout",
     "output_type": "stream",
     "text": [
      "The Concordance Index of the Gradient Boosting Model fitted on the 2021 season on game level on the 2022 survival dataframe is 0.64\n"
     ]
    }
   ],
   "execution_count": 11
  },
  {
   "metadata": {
    "ExecuteTime": {
     "end_time": "2024-11-05T23:02:35.972390Z",
     "start_time": "2024-11-05T23:02:35.289601Z"
    }
   },
   "cell_type": "code",
   "source": [
    "est_cph_tree_game_level_2022 = fit_gradient_boosting_model_on_season_game_level(\"2022\")\n",
    "held_out_concordance_est_cph_tree_game_level_2023 = evaluate_held_out_gradient_boosting_model_game_level(est_cph_tree_game_level_2022, \"2023\")\n",
    "print(f\"The Concordance Index of the Gradient Boosting Model fitted on the 2022 season on game level on the 2023 survival dataframe is {round(held_out_concordance_est_cph_tree_game_level_2023,2)}\")"
   ],
   "id": "4db8903b32ca831b",
   "outputs": [
    {
     "name": "stdout",
     "output_type": "stream",
     "text": [
      "The Concordance Index of the Gradient Boosting Model fitted on the 2022 season on game level on the 2023 survival dataframe is 0.63\n"
     ]
    }
   ],
   "execution_count": 12
  },
  {
   "metadata": {
    "ExecuteTime": {
     "end_time": "2024-11-05T23:02:36.590239Z",
     "start_time": "2024-11-05T23:02:35.973396Z"
    }
   },
   "cell_type": "code",
   "source": [
    "est_cph_tree_game_level_2023 = fit_gradient_boosting_model_on_season_game_level(\"2023\")\n",
    "held_out_concordance_est_cph_tree_game_level_2024 = evaluate_held_out_gradient_boosting_model_game_level(est_cph_tree_game_level_2023, \"2024\")\n",
    "print(f\"The Concordance Index of the Gradient Boosting Model fitted on the 2023 season on game level on the 2024 survival dataframe is {round(held_out_concordance_est_cph_tree_game_level_2024,2)}\")"
   ],
   "id": "8d97741049364bf7",
   "outputs": [
    {
     "name": "stdout",
     "output_type": "stream",
     "text": [
      "The Concordance Index of the Gradient Boosting Model fitted on the 2023 season on game level on the 2024 survival dataframe is 0.59\n"
     ]
    }
   ],
   "execution_count": 13
  }
 ],
 "metadata": {
  "kernelspec": {
   "display_name": "Python 3",
   "language": "python",
   "name": "python3"
  },
  "language_info": {
   "codemirror_mode": {
    "name": "ipython",
    "version": 2
   },
   "file_extension": ".py",
   "mimetype": "text/x-python",
   "name": "python",
   "nbconvert_exporter": "python",
   "pygments_lexer": "ipython2",
   "version": "2.7.6"
  }
 },
 "nbformat": 4,
 "nbformat_minor": 5
}
