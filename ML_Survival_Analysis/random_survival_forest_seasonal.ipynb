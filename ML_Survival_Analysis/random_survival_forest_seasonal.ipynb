{
 "cells": [
  {
   "metadata": {},
   "cell_type": "markdown",
   "source": [
    "## Random Survival Forest Model\n",
    "Fit the Random Survival Forest Model on the survival dataframe for each of the seasons on both the pitch and game levels."
   ],
   "id": "117d05ae73d2e5a4"
  },
  {
   "cell_type": "code",
   "id": "initial_id",
   "metadata": {
    "collapsed": true,
    "ExecuteTime": {
     "end_time": "2024-11-05T22:39:17.862010Z",
     "start_time": "2024-11-05T22:39:16.097555Z"
    }
   },
   "source": [
    "import pandas as pd\n",
    "%matplotlib inline\n",
    "\n",
    "from sklearn import set_config\n",
    "from sksurv.ensemble import RandomSurvivalForest\n",
    "\n",
    "set_config(display='text')"
   ],
   "execution_count": 1,
   "outputs": []
  },
  {
   "metadata": {},
   "cell_type": "markdown",
   "source": "## Fitting Random Survival Forest Model on each of the 2020-2023 seasonal survival dataframe at Pitch Level",
   "id": "ede7c6bd67131691"
  },
  {
   "metadata": {
    "ExecuteTime": {
     "end_time": "2024-11-05T22:39:17.867557Z",
     "start_time": "2024-11-05T22:39:17.863020Z"
    }
   },
   "cell_type": "code",
   "source": [
    "def fit_random_survival_forest_model_on_season_pitch_level(season_year):\n",
    "    survival_df_time_invariant_pitch_level = pd.read_csv(f\"../Time-Invariant-Survival-Analysis/survival_df_{season_year}_time_invariant_pitch_level.csv\")\n",
    "    \n",
    "    # the X_train for fitting the random survival forests\n",
    "    X_train = survival_df_time_invariant_pitch_level.drop(columns=['Pitches', 'EVENT'])\n",
    "    \n",
    "    # the y_train for fitting the random survival forests\n",
    "    y_train = survival_df_time_invariant_pitch_level[['EVENT', 'Pitches']].to_records(index=False)\n",
    "\n",
    "    # fit the random survival forest model\n",
    "    random_survival_forest = RandomSurvivalForest(n_estimators=100, min_samples_split=10, min_samples_leaf=15, n_jobs=-1, random_state=100)\n",
    "    random_survival_forest.fit(X_train,y_train)\n",
    "    \n",
    "    return random_survival_forest"
   ],
   "id": "aebd29b27cee37ca",
   "execution_count": 2,
   "outputs": []
  },
  {
   "metadata": {},
   "cell_type": "markdown",
   "source": "### Evaluate the performance of the Random Survival Forest Model on the held-out survival dataframe for injured players for each of the seasonal models.",
   "id": "53db952029b1bd26"
  },
  {
   "metadata": {
    "ExecuteTime": {
     "end_time": "2024-11-05T22:39:17.880940Z",
     "start_time": "2024-11-05T22:39:17.867557Z"
    }
   },
   "cell_type": "code",
   "source": [
    "# held-out 2024 survival dataframe\n",
    "def evaluate_held_out_random_survival_forest_pitch_level(rsf_model, held_out_season_year):\n",
    "    survival_df_held_out_time_invariant_pitch_level = pd.read_csv(f\"../Time-Invariant-Survival-Analysis/\"\n",
    "                                                                  f\"survival_df_{held_out_season_year}_time_invariant_pitch_level.csv\")\n",
    "    X_test = survival_df_held_out_time_invariant_pitch_level.drop(columns = ['Pitches', 'EVENT'])\n",
    "    y_test = survival_df_held_out_time_invariant_pitch_level[['EVENT', 'Pitches']].to_records(index=False)\n",
    "\n",
    "    concordance_score_random_survival_forest_held_out = rsf_model.score(X_test, y_test)\n",
    "    return concordance_score_random_survival_forest_held_out"
   ],
   "id": "a5cd6a3a21bd8c10",
   "execution_count": 3,
   "outputs": []
  },
  {
   "metadata": {
    "ExecuteTime": {
     "end_time": "2024-11-05T22:39:18.089376Z",
     "start_time": "2024-11-05T22:39:17.881946Z"
    }
   },
   "cell_type": "code",
   "source": [
    "rsf_pitch_level_2020 = fit_random_survival_forest_model_on_season_pitch_level(\"2020\")\n",
    "held_out_concordance_rsf_pitch_level_2021 = evaluate_held_out_random_survival_forest_pitch_level(rsf_pitch_level_2020, \"2021\")\n",
    "print(f\"The Concordance Index of the Random Survival Forest Model fitted on the 2020 season on pitch level on the 2021 survival dataframe is {round(held_out_concordance_rsf_pitch_level_2021,2)}\")"
   ],
   "id": "81786a336498b61c",
   "execution_count": 4,
   "outputs": []
  },
  {
   "metadata": {
    "ExecuteTime": {
     "end_time": "2024-11-05T22:39:18.401884Z",
     "start_time": "2024-11-05T22:39:18.091388Z"
    }
   },
   "cell_type": "code",
   "source": [
    "rsf_pitch_level_2021 = fit_random_survival_forest_model_on_season_pitch_level(\"2021\")\n",
    "held_out_concordance_rsf_pitch_level_2022 = evaluate_held_out_random_survival_forest_pitch_level(rsf_pitch_level_2021, \"2022\")\n",
    "print(f\"The Concordance Index of the Random Survival Forest Model fitted on the 2021 season on pitch level on the 2022 survival dataframe is {round(held_out_concordance_rsf_pitch_level_2022,2)}\")"
   ],
   "id": "d2c5167905e3cd40",
   "execution_count": 5,
   "outputs": []
  },
  {
   "metadata": {
    "ExecuteTime": {
     "end_time": "2024-11-05T22:39:18.667209Z",
     "start_time": "2024-11-05T22:39:18.402890Z"
    }
   },
   "cell_type": "code",
   "source": [
    "rsf_pitch_level_2022 = fit_random_survival_forest_model_on_season_pitch_level(\"2022\")\n",
    "held_out_concordance_rsf_pitch_level_2023 = evaluate_held_out_random_survival_forest_pitch_level(rsf_pitch_level_2022, \"2023\")\n",
    "print(f\"The Concordance Index of the Random Survival Forest Model fitted on the 2022 season on pitch level on the 2023 survival dataframe is {round(held_out_concordance_rsf_pitch_level_2023,2)}\")"
   ],
   "id": "ee11aba07ef33b99",
   "execution_count": 6,
   "outputs": []
  },
  {
   "metadata": {
    "ExecuteTime": {
     "end_time": "2024-11-05T22:39:18.892557Z",
     "start_time": "2024-11-05T22:39:18.668217Z"
    }
   },
   "cell_type": "code",
   "source": [
    "rsf_pitch_level_2023 = fit_random_survival_forest_model_on_season_pitch_level(\"2023\")\n",
    "held_out_concordance_rsf_pitch_level_2024 = evaluate_held_out_random_survival_forest_pitch_level(rsf_pitch_level_2023, \"2024\")\n",
    "print(f\"The Concordance Index of the Random Survival Forest Model fitted on the 2023 season on pitch level on the 2024 survival dataframe is {round(held_out_concordance_rsf_pitch_level_2024,2)}\")"
   ],
   "id": "ad86360c8187e6f0",
   "execution_count": 7,
   "outputs": []
  },
  {
   "metadata": {},
   "cell_type": "markdown",
   "source": "## Fitting Random Survival Forest Model on each of the 2020-2023 seasonal survival dataframe at Game Level",
   "id": "1404e4778e9e517f"
  },
  {
   "metadata": {
    "ExecuteTime": {
     "end_time": "2024-11-05T22:39:18.897562Z",
     "start_time": "2024-11-05T22:39:18.893563Z"
    }
   },
   "cell_type": "code",
   "source": [
    "def fit_random_survival_forest_model_on_season_game_level(season_year):\n",
    "    survival_df_time_invariant_game_level = pd.read_csv(f\"../Time-Invariant-Survival-Analysis/survival_df_{season_year}_time_invariant_game_level.csv\")\n",
    "\n",
    "    # the X_train for fitting the random survival forests\n",
    "    X_train = survival_df_time_invariant_game_level.drop(columns=['Games', 'EVENT'])\n",
    "\n",
    "    # the y_train for fitting the random survival forests\n",
    "    y_train = survival_df_time_invariant_game_level[['EVENT', 'Games']].to_records(index=False)\n",
    "\n",
    "    # fit the random survival forest model\n",
    "    random_survival_forest = RandomSurvivalForest(n_estimators=100, min_samples_split=10, min_samples_leaf=15, n_jobs=-1, random_state=100)\n",
    "    random_survival_forest.fit(X_train,y_train)\n",
    "\n",
    "    return random_survival_forest"
   ],
   "id": "c8e870ebabd2af17",
   "execution_count": 8,
   "outputs": []
  },
  {
   "metadata": {},
   "cell_type": "markdown",
   "source": "### Evaluate the performance of the Random Survival Forest Model on the held-out survival dataframe for injured players for each of the seasonal models at game level",
   "id": "cf47124c47d636e0"
  },
  {
   "metadata": {
    "ExecuteTime": {
     "end_time": "2024-11-05T22:39:18.909955Z",
     "start_time": "2024-11-05T22:39:18.898570Z"
    }
   },
   "cell_type": "code",
   "source": [
    "# held-out 2024 survival dataframe\n",
    "def evaluate_held_out_random_survival_forest_game_level(rsf_model, held_out_season_year):\n",
    "    survival_df_held_out_time_invariant_game_level = pd.read_csv(f\"../Time-Invariant-Survival-Analysis/\"\n",
    "                                                                  f\"survival_df_{held_out_season_year}_time_invariant_game_level.csv\")\n",
    "    X_test = survival_df_held_out_time_invariant_game_level.drop(columns = ['Games', 'EVENT'])\n",
    "    y_test = survival_df_held_out_time_invariant_game_level[['EVENT', 'Games']].to_records(index=False)\n",
    "\n",
    "    concordance_score_random_survival_forest_held_out = rsf_model.score(X_test, y_test)\n",
    "    return concordance_score_random_survival_forest_held_out"
   ],
   "id": "f4d8f2a624b09163",
   "execution_count": 9,
   "outputs": []
  },
  {
   "metadata": {
    "ExecuteTime": {
     "end_time": "2024-11-05T22:39:19.056291Z",
     "start_time": "2024-11-05T22:39:18.910964Z"
    }
   },
   "cell_type": "code",
   "source": [
    "rsf_game_level_2020 = fit_random_survival_forest_model_on_season_game_level(\"2020\")\n",
    "held_out_concordance_rsf_game_level_2021 = evaluate_held_out_random_survival_forest_game_level(rsf_game_level_2020, \"2021\")\n",
    "print(f\"The Concordance Index of the Random Survival Forest Model fitted on the 2020 season on game level on the 2021 survival dataframe is {round(held_out_concordance_rsf_game_level_2021,2)}\")"
   ],
   "id": "11386b085ce1495",
   "execution_count": 10,
   "outputs": []
  },
  {
   "metadata": {
    "ExecuteTime": {
     "end_time": "2024-11-05T22:39:19.222687Z",
     "start_time": "2024-11-05T22:39:19.057297Z"
    }
   },
   "cell_type": "code",
   "source": [
    "rsf_game_level_2021 = fit_random_survival_forest_model_on_season_game_level(\"2021\")\n",
    "held_out_concordance_rsf_game_level_2022 = evaluate_held_out_random_survival_forest_game_level(rsf_game_level_2021, \"2022\")\n",
    "print(f\"The Concordance Index of the Random Survival Forest Model fitted on the 2021 season on game level on the 2022 survival dataframe is {round(held_out_concordance_rsf_game_level_2022,2)}\")"
   ],
   "id": "28db22059f09c025",
   "execution_count": 11,
   "outputs": []
  },
  {
   "metadata": {
    "ExecuteTime": {
     "end_time": "2024-11-05T22:39:19.377082Z",
     "start_time": "2024-11-05T22:39:19.223695Z"
    }
   },
   "cell_type": "code",
   "source": [
    "rsf_game_level_2022 = fit_random_survival_forest_model_on_season_game_level(\"2022\")\n",
    "held_out_concordance_rsf_game_level_2023 = evaluate_held_out_random_survival_forest_game_level(rsf_game_level_2022, \"2023\")\n",
    "print(f\"The Concordance Index of the Random Survival Forest Model fitted on the 2022 season on game level on the 2023 survival dataframe is {round(held_out_concordance_rsf_game_level_2023,2)}\")"
   ],
   "id": "4db8903b32ca831b",
   "execution_count": 12,
   "outputs": []
  },
  {
   "metadata": {
    "ExecuteTime": {
     "end_time": "2024-11-05T22:39:19.519635Z",
     "start_time": "2024-11-05T22:39:19.378091Z"
    }
   },
   "cell_type": "code",
   "source": [
    "rsf_game_level_2023 = fit_random_survival_forest_model_on_season_game_level(\"2023\")\n",
    "held_out_concordance_rsf_game_level_2024 = evaluate_held_out_random_survival_forest_game_level(rsf_game_level_2023, \"2024\")\n",
    "print(f\"The Concordance Index of the Random Survival Forest Model fitted on the 2023 season on game level on the 2024 survival dataframe is {round(held_out_concordance_rsf_game_level_2024,2)}\")"
   ],
   "id": "8d97741049364bf7",
   "execution_count": 13,
   "outputs": []
  }
 ],
 "metadata": {
  "kernelspec": {
   "display_name": "Python 3",
   "language": "python",
   "name": "python3"
  },
  "language_info": {
   "codemirror_mode": {
    "name": "ipython",
    "version": 2
   },
   "file_extension": ".py",
   "mimetype": "text/x-python",
   "name": "python",
   "nbconvert_exporter": "python",
   "pygments_lexer": "ipython2",
   "version": "2.7.6"
  }
 },
 "nbformat": 4,
 "nbformat_minor": 5
}
