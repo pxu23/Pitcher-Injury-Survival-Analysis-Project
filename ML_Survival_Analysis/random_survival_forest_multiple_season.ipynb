{
 "cells": [
  {
   "metadata": {},
   "cell_type": "markdown",
   "source": [
    "## Random Survival Forest Model\n",
    "Fit the Random Survival Forest Model on the survival dataframe for each of the seasons on both the pitch and game levels."
   ],
   "id": "117d05ae73d2e5a4"
  },
  {
   "cell_type": "code",
   "id": "initial_id",
   "metadata": {
    "collapsed": true,
    "ExecuteTime": {
     "end_time": "2025-02-19T21:13:48.264727Z",
     "start_time": "2025-02-19T21:13:46.668026Z"
    }
   },
   "source": [
    "import pandas as pd\n",
    "%matplotlib inline\n",
    "\n",
    "from sklearn import set_config\n",
    "from sksurv.ensemble import RandomSurvivalForest\n",
    "\n",
    "set_config(display='text')"
   ],
   "outputs": [],
   "execution_count": 1
  },
  {
   "metadata": {},
   "cell_type": "markdown",
   "source": "## Fitting Random Survival Forest Model on each of the 2020-2023 seasonal survival dataframe at Pitch Level",
   "id": "ede7c6bd67131691"
  },
  {
   "metadata": {
    "ExecuteTime": {
     "end_time": "2025-02-19T21:13:48.287241Z",
     "start_time": "2025-02-19T21:13:48.280244Z"
    }
   },
   "cell_type": "code",
   "source": [
    "def fit_random_survival_forest_model_on_season_pitch_level(season_year, recurrence):\n",
    "    survival_df_time_invariant_pitch_level = pd.read_csv(f\"../Survival-Dataframes/Time-Invariant/survival_df_{season_year}_time_invariant_pitch_level.csv\")\n",
    "\n",
    "    survival_df_time_invariant_pitch_level.drop(columns=['player_name','previous_injury_date', 'next_injury_date'],inplace=True)\n",
    "\n",
    "    if not recurrence:\n",
    "        survival_df_time_invariant_pitch_level.drop(columns=['recurrence'],inplace=True)\n",
    "\n",
    "    # the X_train for fitting the random survival forests\n",
    "    X_train = survival_df_time_invariant_pitch_level.drop(columns=['num_pitches', 'EVENT'])\n",
    "    \n",
    "    # the y_train for fitting the random survival forests\n",
    "    y_train = survival_df_time_invariant_pitch_level[['EVENT', 'num_pitches']].to_records(index=False)\n",
    "\n",
    "    # fit the random survival forest model\n",
    "    random_survival_forest = RandomSurvivalForest(n_estimators=100, min_samples_split=10, min_samples_leaf=15, n_jobs=-1, random_state=100)\n",
    "    random_survival_forest.fit(X_train,y_train)\n",
    "    \n",
    "    return random_survival_forest"
   ],
   "id": "aebd29b27cee37ca",
   "outputs": [],
   "execution_count": 2
  },
  {
   "metadata": {},
   "cell_type": "markdown",
   "source": "### Evaluate the performance of the Random Survival Forest Model on the held-out survival dataframe for injured players for each of the seasonal models.",
   "id": "53db952029b1bd26"
  },
  {
   "metadata": {
    "ExecuteTime": {
     "end_time": "2025-02-19T21:13:48.353010Z",
     "start_time": "2025-02-19T21:13:48.348009Z"
    }
   },
   "cell_type": "code",
   "source": [
    "# held-out 2024 survival dataframe\n",
    "def evaluate_held_out_random_survival_forest_pitch_level(rsf_model, held_out_season_year, recurrence):\n",
    "    survival_df_held_out_time_invariant_pitch_level = pd.read_csv(f\"../Survival-Dataframes/Time-Invariant/\"\n",
    "                                                                  f\"survival_df_{held_out_season_year}_time_invariant_pitch_level.csv\")\n",
    "\n",
    "    survival_df_held_out_time_invariant_pitch_level.drop(columns=['player_name','previous_injury_date','next_injury_date'],inplace=True)\n",
    "    if not recurrence:\n",
    "        survival_df_held_out_time_invariant_pitch_level.drop(columns=['recurrence'],inplace=True)\n",
    "\n",
    "    X_test = survival_df_held_out_time_invariant_pitch_level.drop(columns = ['num_pitches', 'EVENT'])\n",
    "    y_test = survival_df_held_out_time_invariant_pitch_level[['EVENT', 'num_pitches']].to_records(index=False)\n",
    "\n",
    "    concordance_score_random_survival_forest_held_out = rsf_model.score(X_test, y_test)\n",
    "    return concordance_score_random_survival_forest_held_out"
   ],
   "id": "a5cd6a3a21bd8c10",
   "outputs": [],
   "execution_count": 3
  },
  {
   "metadata": {
    "ExecuteTime": {
     "end_time": "2025-02-19T21:13:48.932318Z",
     "start_time": "2025-02-19T21:13:48.363826Z"
    }
   },
   "cell_type": "code",
   "source": [
    "rsf_pitch_level_2020 = fit_random_survival_forest_model_on_season_pitch_level(\"2020\",recurrence=False)\n",
    "held_out_concordance_rsf_pitch_level_2021 = evaluate_held_out_random_survival_forest_pitch_level(rsf_pitch_level_2020, \"2021\",recurrence=False)\n",
    "print(f\"The Concordance Index of the Random Survival Forest Model fitted on the 2020 season on pitch level on the 2021 survival dataframe is {round(held_out_concordance_rsf_pitch_level_2021,2)}\")"
   ],
   "id": "81786a336498b61c",
   "outputs": [
    {
     "name": "stdout",
     "output_type": "stream",
     "text": [
      "The Concordance Index of the Random Survival Forest Model fitted on the 2020 season on pitch level on the 2021 survival dataframe is 0.56\n"
     ]
    }
   ],
   "execution_count": 4
  },
  {
   "metadata": {
    "ExecuteTime": {
     "end_time": "2025-02-19T21:13:49.437010Z",
     "start_time": "2025-02-19T21:13:48.945975Z"
    }
   },
   "cell_type": "code",
   "source": [
    "rsf_pitch_level_2020_recurrence = fit_random_survival_forest_model_on_season_pitch_level(\"2020\",recurrence=True)\n",
    "held_out_concordance_rsf_pitch_level_2021_recurrence = evaluate_held_out_random_survival_forest_pitch_level(rsf_pitch_level_2020_recurrence, \"2021\",recurrence=True)\n",
    "print(f\"The Concordance Index of the Random Survival Forest Model with recurrence fitted on the 2020 season on pitch level on the 2021 survival dataframe is {round(held_out_concordance_rsf_pitch_level_2021_recurrence,2)}\")"
   ],
   "id": "d63921646071064e",
   "outputs": [
    {
     "name": "stdout",
     "output_type": "stream",
     "text": [
      "The Concordance Index of the Random Survival Forest Model with recurrence fitted on the 2020 season on pitch level on the 2021 survival dataframe is 0.66\n"
     ]
    }
   ],
   "execution_count": 5
  },
  {
   "metadata": {
    "ExecuteTime": {
     "end_time": "2025-02-19T21:13:50.496339Z",
     "start_time": "2025-02-19T21:13:49.449427Z"
    }
   },
   "cell_type": "code",
   "source": [
    "rsf_pitch_level_2021 = fit_random_survival_forest_model_on_season_pitch_level(\"2021\", recurrence=False)\n",
    "held_out_concordance_rsf_pitch_level_2022 = evaluate_held_out_random_survival_forest_pitch_level(rsf_pitch_level_2021, \"2022\", recurrence=False)\n",
    "print(f\"The Concordance Index of the Random Survival Forest Model fitted on the 2021 season on pitch level on the 2022 survival dataframe is {round(held_out_concordance_rsf_pitch_level_2022,2)}\")"
   ],
   "id": "d2c5167905e3cd40",
   "outputs": [
    {
     "name": "stdout",
     "output_type": "stream",
     "text": [
      "The Concordance Index of the Random Survival Forest Model fitted on the 2021 season on pitch level on the 2022 survival dataframe is 0.55\n"
     ]
    }
   ],
   "execution_count": 6
  },
  {
   "metadata": {
    "ExecuteTime": {
     "end_time": "2025-02-19T21:13:51.369747Z",
     "start_time": "2025-02-19T21:13:50.509327Z"
    }
   },
   "cell_type": "code",
   "source": [
    "rsf_pitch_level_2021_recurrence = fit_random_survival_forest_model_on_season_pitch_level(\"2021\", recurrence=True)\n",
    "held_out_concordance_rsf_pitch_level_2022_recurrence = evaluate_held_out_random_survival_forest_pitch_level(rsf_pitch_level_2021_recurrence, \"2022\", recurrence=True)\n",
    "print(f\"The Concordance Index of the Random Survival Forest Model with recurrence fitted on the 2021 season on pitch level on the 2022 survival dataframe is {round(held_out_concordance_rsf_pitch_level_2022_recurrence,2)}\")"
   ],
   "id": "e4b2d01d0778b4a6",
   "outputs": [
    {
     "name": "stdout",
     "output_type": "stream",
     "text": [
      "The Concordance Index of the Random Survival Forest Model with recurrence fitted on the 2021 season on pitch level on the 2022 survival dataframe is 0.65\n"
     ]
    }
   ],
   "execution_count": 7
  },
  {
   "metadata": {
    "ExecuteTime": {
     "end_time": "2025-02-19T21:13:52.222422Z",
     "start_time": "2025-02-19T21:13:51.393274Z"
    }
   },
   "cell_type": "code",
   "source": [
    "rsf_pitch_level_2022 = fit_random_survival_forest_model_on_season_pitch_level(\"2022\", recurrence=False)\n",
    "held_out_concordance_rsf_pitch_level_2023 = evaluate_held_out_random_survival_forest_pitch_level(rsf_pitch_level_2022, \"2023\", recurrence=False)\n",
    "print(f\"The Concordance Index of the Random Survival Forest Model fitted on the 2022 season on pitch level on the 2023 survival dataframe is {round(held_out_concordance_rsf_pitch_level_2023,2)}\")"
   ],
   "id": "ee11aba07ef33b99",
   "outputs": [
    {
     "name": "stdout",
     "output_type": "stream",
     "text": [
      "The Concordance Index of the Random Survival Forest Model fitted on the 2022 season on pitch level on the 2023 survival dataframe is 0.58\n"
     ]
    }
   ],
   "execution_count": 8
  },
  {
   "metadata": {
    "ExecuteTime": {
     "end_time": "2025-02-19T21:13:53.008221Z",
     "start_time": "2025-02-19T21:13:52.238911Z"
    }
   },
   "cell_type": "code",
   "source": [
    "rsf_pitch_level_2022_recurrence = fit_random_survival_forest_model_on_season_pitch_level(\"2022\", recurrence=True)\n",
    "held_out_concordance_rsf_pitch_level_2023_recurrence = evaluate_held_out_random_survival_forest_pitch_level(rsf_pitch_level_2022_recurrence, \"2023\", recurrence=True)\n",
    "print(f\"The Concordance Index of the Random Survival Forest Model with recurrence fitted on the 2022 season on pitch level on the 2023 survival dataframe is {round(held_out_concordance_rsf_pitch_level_2023_recurrence,2)}\")"
   ],
   "id": "4a7f1f1fd4ff9a5",
   "outputs": [
    {
     "name": "stdout",
     "output_type": "stream",
     "text": [
      "The Concordance Index of the Random Survival Forest Model with recurrence fitted on the 2022 season on pitch level on the 2023 survival dataframe is 0.64\n"
     ]
    }
   ],
   "execution_count": 9
  },
  {
   "metadata": {
    "ExecuteTime": {
     "end_time": "2025-02-19T21:13:53.759210Z",
     "start_time": "2025-02-19T21:13:53.014479Z"
    }
   },
   "cell_type": "code",
   "source": [
    "rsf_pitch_level_2023 = fit_random_survival_forest_model_on_season_pitch_level(\"2023\", recurrence=False)\n",
    "held_out_concordance_rsf_pitch_level_2024 = evaluate_held_out_random_survival_forest_pitch_level(rsf_pitch_level_2023, \"2024\", recurrence=False)\n",
    "print(f\"The Concordance Index of the Random Survival Forest Model fitted on the 2023 season on pitch level on the 2024 survival dataframe is {round(held_out_concordance_rsf_pitch_level_2024,2)}\")"
   ],
   "id": "ad86360c8187e6f0",
   "outputs": [
    {
     "name": "stdout",
     "output_type": "stream",
     "text": [
      "The Concordance Index of the Random Survival Forest Model fitted on the 2023 season on pitch level on the 2024 survival dataframe is 0.52\n"
     ]
    }
   ],
   "execution_count": 10
  },
  {
   "metadata": {
    "ExecuteTime": {
     "end_time": "2025-02-19T21:13:54.534957Z",
     "start_time": "2025-02-19T21:13:53.775377Z"
    }
   },
   "cell_type": "code",
   "source": [
    "rsf_pitch_level_2023_recurrence = fit_random_survival_forest_model_on_season_pitch_level(\"2023\", recurrence=True)\n",
    "held_out_concordance_rsf_pitch_level_2024_recurrence = evaluate_held_out_random_survival_forest_pitch_level(rsf_pitch_level_2023_recurrence, \"2024\", recurrence=True)\n",
    "print(f\"The Concordance Index of the Random Survival Forest Model with recurrence fitted on the 2023 season on pitch level on the 2024 survival dataframe is {round(held_out_concordance_rsf_pitch_level_2024_recurrence,2)}\")"
   ],
   "id": "b02406053760a82f",
   "outputs": [
    {
     "name": "stdout",
     "output_type": "stream",
     "text": [
      "The Concordance Index of the Random Survival Forest Model with recurrence fitted on the 2023 season on pitch level on the 2024 survival dataframe is 0.62\n"
     ]
    }
   ],
   "execution_count": 11
  },
  {
   "metadata": {},
   "cell_type": "markdown",
   "source": "## Fitting Random Survival Forest Model on each of the 2020-2023 seasonal survival dataframe at Game Level",
   "id": "1404e4778e9e517f"
  },
  {
   "metadata": {
    "ExecuteTime": {
     "end_time": "2025-02-19T21:13:54.564445Z",
     "start_time": "2025-02-19T21:13:54.556021Z"
    }
   },
   "cell_type": "code",
   "source": [
    "def fit_random_survival_forest_model_on_season_game_level(season_year, recurrence):\n",
    "    survival_df_time_invariant_game_level = pd.read_csv(f\"../Survival-Dataframes/Time-Invariant/survival_df_{season_year}_time_invariant_game_level.csv\")\n",
    "\n",
    "    survival_df_time_invariant_game_level.drop(columns=['player_name', 'previous_injury_date', 'next_injury_date'],inplace=True)\n",
    "\n",
    "    if not recurrence:\n",
    "        survival_df_time_invariant_game_level.drop(columns=['recurrence'],inplace=True)\n",
    "\n",
    "    # the X_train for fitting the random survival forests\n",
    "    X_train = survival_df_time_invariant_game_level.drop(columns=['num_games', 'EVENT'])\n",
    "\n",
    "    # the y_train for fitting the random survival forests\n",
    "    y_train = survival_df_time_invariant_game_level[['EVENT', 'num_games']].to_records(index=False)\n",
    "\n",
    "    # fit the random survival forest model\n",
    "    random_survival_forest = RandomSurvivalForest(n_estimators=100, min_samples_split=10, min_samples_leaf=15, n_jobs=-1, random_state=100)\n",
    "    random_survival_forest.fit(X_train,y_train)\n",
    "\n",
    "    return random_survival_forest"
   ],
   "id": "c8e870ebabd2af17",
   "outputs": [],
   "execution_count": 12
  },
  {
   "metadata": {},
   "cell_type": "markdown",
   "source": "### Evaluate the performance of the Random Survival Forest Model on the held-out survival dataframe for injured players for each of the seasonal models at game level",
   "id": "cf47124c47d636e0"
  },
  {
   "metadata": {
    "ExecuteTime": {
     "end_time": "2025-02-19T21:13:54.589711Z",
     "start_time": "2025-02-19T21:13:54.583744Z"
    }
   },
   "cell_type": "code",
   "source": [
    "# held-out 2024 survival dataframe\n",
    "def evaluate_held_out_random_survival_forest_game_level(rsf_model, held_out_season_year, recurrence):\n",
    "    survival_df_held_out_time_invariant_game_level = pd.read_csv(f\"../Survival-Dataframes/Time-Invariant/\"\n",
    "                                                                      f\"survival_df_{held_out_season_year}_time_invariant_game_level.csv\")\n",
    "\n",
    "    survival_df_held_out_time_invariant_game_level.drop(columns=['player_name', 'previous_injury_date', 'next_injury_date'],inplace=True)\n",
    "\n",
    "    if not recurrence:\n",
    "        survival_df_held_out_time_invariant_game_level.drop(columns=['recurrence'],inplace=True)\n",
    "\n",
    "    X_test = survival_df_held_out_time_invariant_game_level.drop(columns = ['num_games', 'EVENT'])\n",
    "    y_test = survival_df_held_out_time_invariant_game_level[['EVENT', 'num_games']].to_records(index=False)\n",
    "\n",
    "    concordance_score_random_survival_forest_held_out = rsf_model.score(X_test, y_test)\n",
    "    return concordance_score_random_survival_forest_held_out"
   ],
   "id": "f4d8f2a624b09163",
   "outputs": [],
   "execution_count": 13
  },
  {
   "metadata": {
    "ExecuteTime": {
     "end_time": "2025-02-19T21:13:54.846612Z",
     "start_time": "2025-02-19T21:13:54.605837Z"
    }
   },
   "cell_type": "code",
   "source": [
    "rsf_game_level_2020 = fit_random_survival_forest_model_on_season_game_level(\"2020\", False)\n",
    "held_out_concordance_rsf_game_level_2021 = evaluate_held_out_random_survival_forest_game_level(rsf_game_level_2020, \"2021\", False)\n",
    "print(f\"The Concordance Index of the Random Survival Forest Model fitted on the 2020 season on game level on the 2021 survival dataframe is {round(held_out_concordance_rsf_game_level_2021,2)}\")"
   ],
   "id": "11386b085ce1495",
   "outputs": [
    {
     "name": "stdout",
     "output_type": "stream",
     "text": [
      "The Concordance Index of the Random Survival Forest Model fitted on the 2020 season on game level on the 2021 survival dataframe is 0.56\n"
     ]
    }
   ],
   "execution_count": 14
  },
  {
   "metadata": {
    "ExecuteTime": {
     "end_time": "2025-02-19T21:13:55.102944Z",
     "start_time": "2025-02-19T21:13:54.875798Z"
    }
   },
   "cell_type": "code",
   "source": [
    "rsf_game_level_2020_recurrence = fit_random_survival_forest_model_on_season_game_level(\"2020\", True)\n",
    "held_out_concordance_rsf_game_level_2021_recurrence = evaluate_held_out_random_survival_forest_game_level(rsf_game_level_2020_recurrence, \"2021\", True)\n",
    "print(f\"The Concordance Index of the Random Survival Forest Model with recurrence fitted on the 2020 season on game level on the 2021 survival dataframe is {round(held_out_concordance_rsf_game_level_2021_recurrence,2)}\")"
   ],
   "id": "1c984af10cc722a8",
   "outputs": [
    {
     "name": "stdout",
     "output_type": "stream",
     "text": [
      "The Concordance Index of the Random Survival Forest Model with recurrence fitted on the 2020 season on game level on the 2021 survival dataframe is 0.85\n"
     ]
    }
   ],
   "execution_count": 15
  },
  {
   "metadata": {
    "ExecuteTime": {
     "end_time": "2025-02-19T21:13:55.362339Z",
     "start_time": "2025-02-19T21:13:55.114481Z"
    }
   },
   "cell_type": "code",
   "source": [
    "rsf_game_level_2021 = fit_random_survival_forest_model_on_season_game_level(\"2021\", False)\n",
    "held_out_concordance_rsf_game_level_2022 = evaluate_held_out_random_survival_forest_game_level(rsf_game_level_2021, \"2022\", False)\n",
    "print(f\"The Concordance Index of the Random Survival Forest Model fitted on the 2021 season on game level on the 2022 survival dataframe is {round(held_out_concordance_rsf_game_level_2022,2)}\")"
   ],
   "id": "28db22059f09c025",
   "outputs": [
    {
     "name": "stdout",
     "output_type": "stream",
     "text": [
      "The Concordance Index of the Random Survival Forest Model fitted on the 2021 season on game level on the 2022 survival dataframe is 0.55\n"
     ]
    }
   ],
   "execution_count": 16
  },
  {
   "metadata": {
    "ExecuteTime": {
     "end_time": "2025-02-19T21:13:55.652347Z",
     "start_time": "2025-02-19T21:13:55.379643Z"
    }
   },
   "cell_type": "code",
   "source": [
    "rsf_game_level_2021_recurrence = fit_random_survival_forest_model_on_season_game_level(\"2021\", True)\n",
    "held_out_concordance_rsf_game_level_2022_recurrence = evaluate_held_out_random_survival_forest_game_level(rsf_game_level_2021_recurrence, \"2022\", True)\n",
    "print(f\"The Concordance Index of the Random Survival Forest Model with recurrence fitted on the 2021 season on game level on the 2022 survival dataframe is {round(held_out_concordance_rsf_game_level_2022_recurrence,2)}\")"
   ],
   "id": "5c3a4901fc7c8b4",
   "outputs": [
    {
     "name": "stdout",
     "output_type": "stream",
     "text": [
      "The Concordance Index of the Random Survival Forest Model with recurrence fitted on the 2021 season on game level on the 2022 survival dataframe is 0.85\n"
     ]
    }
   ],
   "execution_count": 17
  },
  {
   "metadata": {
    "ExecuteTime": {
     "end_time": "2025-02-19T21:13:55.883938Z",
     "start_time": "2025-02-19T21:13:55.664959Z"
    }
   },
   "cell_type": "code",
   "source": [
    "rsf_game_level_2022 = fit_random_survival_forest_model_on_season_game_level(\"2022\",False)\n",
    "held_out_concordance_rsf_game_level_2023 = evaluate_held_out_random_survival_forest_game_level(rsf_game_level_2022, \"2023\", False)\n",
    "print(f\"The Concordance Index of the Random Survival Forest Model fitted on the 2022 season on game level on the 2023 survival dataframe is {round(held_out_concordance_rsf_game_level_2023,2)}\")"
   ],
   "id": "4db8903b32ca831b",
   "outputs": [
    {
     "name": "stdout",
     "output_type": "stream",
     "text": [
      "The Concordance Index of the Random Survival Forest Model fitted on the 2022 season on game level on the 2023 survival dataframe is 0.51\n"
     ]
    }
   ],
   "execution_count": 18
  },
  {
   "metadata": {
    "ExecuteTime": {
     "end_time": "2025-02-19T21:13:56.099941Z",
     "start_time": "2025-02-19T21:13:55.897423Z"
    }
   },
   "cell_type": "code",
   "source": [
    "rsf_game_level_2022_recurrence = fit_random_survival_forest_model_on_season_game_level(\"2022\",True)\n",
    "held_out_concordance_rsf_game_level_2023_recurrence = evaluate_held_out_random_survival_forest_game_level(rsf_game_level_2022_recurrence, \"2023\", True)\n",
    "print(f\"The Concordance Index of the Random Survival Forest Model with recurrence fitted on the 2022 season on game level on the 2023 survival dataframe is {round(held_out_concordance_rsf_game_level_2023_recurrence,2)}\")"
   ],
   "id": "ad8bc5707bab6d8b",
   "outputs": [
    {
     "name": "stdout",
     "output_type": "stream",
     "text": [
      "The Concordance Index of the Random Survival Forest Model with recurrence fitted on the 2022 season on game level on the 2023 survival dataframe is 0.83\n"
     ]
    }
   ],
   "execution_count": 19
  },
  {
   "metadata": {
    "ExecuteTime": {
     "end_time": "2025-02-19T21:13:56.319247Z",
     "start_time": "2025-02-19T21:13:56.123258Z"
    }
   },
   "cell_type": "code",
   "source": [
    "rsf_game_level_2023 = fit_random_survival_forest_model_on_season_game_level(\"2023\", False)\n",
    "held_out_concordance_rsf_game_level_2024 = evaluate_held_out_random_survival_forest_game_level(rsf_game_level_2023, \"2024\", False)\n",
    "print(f\"The Concordance Index of the Random Survival Forest Model fitted on the 2023 season on game level on the 2024 survival dataframe is {round(held_out_concordance_rsf_game_level_2024,2)}\")"
   ],
   "id": "8d97741049364bf7",
   "outputs": [
    {
     "name": "stdout",
     "output_type": "stream",
     "text": [
      "The Concordance Index of the Random Survival Forest Model fitted on the 2023 season on game level on the 2024 survival dataframe is 0.58\n"
     ]
    }
   ],
   "execution_count": 20
  },
  {
   "metadata": {
    "ExecuteTime": {
     "end_time": "2025-02-19T21:13:56.563604Z",
     "start_time": "2025-02-19T21:13:56.324429Z"
    }
   },
   "cell_type": "code",
   "source": [
    "rsf_game_level_2023_recurrence = fit_random_survival_forest_model_on_season_game_level(\"2023\", True)\n",
    "held_out_concordance_rsf_game_level_2024_recurrence = evaluate_held_out_random_survival_forest_game_level(rsf_game_level_2023_recurrence, \"2024\", True)\n",
    "print(f\"The Concordance Index of the Random Survival Forest Model with recurrence fitted on the 2023 season on game level on the 2024 survival dataframe is {round(held_out_concordance_rsf_game_level_2024_recurrence,2)}\")"
   ],
   "id": "b55e1431e9f4fd4b",
   "outputs": [
    {
     "name": "stdout",
     "output_type": "stream",
     "text": [
      "The Concordance Index of the Random Survival Forest Model with recurrence fitted on the 2023 season on game level on the 2024 survival dataframe is 0.87\n"
     ]
    }
   ],
   "execution_count": 21
  }
 ],
 "metadata": {
  "kernelspec": {
   "display_name": "Python 3",
   "language": "python",
   "name": "python3"
  },
  "language_info": {
   "codemirror_mode": {
    "name": "ipython",
    "version": 2
   },
   "file_extension": ".py",
   "mimetype": "text/x-python",
   "name": "python",
   "nbconvert_exporter": "python",
   "pygments_lexer": "ipython2",
   "version": "2.7.6"
  }
 },
 "nbformat": 4,
 "nbformat_minor": 5
}
