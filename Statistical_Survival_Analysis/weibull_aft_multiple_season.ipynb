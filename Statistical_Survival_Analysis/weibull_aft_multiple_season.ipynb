{
 "cells": [
  {
   "metadata": {},
   "cell_type": "markdown",
   "source": "Weibull Accelerated Failure Time (AFT) Model on each of the 2020, 2021, 2022, and 2023 seasons.",
   "id": "e587f0ed2ffd2ca6"
  },
  {
   "cell_type": "code",
   "id": "initial_id",
   "metadata": {
    "collapsed": true,
    "ExecuteTime": {
     "end_time": "2025-02-19T21:00:07.901240Z",
     "start_time": "2025-02-19T21:00:06.789311Z"
    }
   },
   "source": [
    "from lifelines import WeibullAFTFitter\n",
    "import pandas as pd"
   ],
   "outputs": [],
   "execution_count": 1
  },
  {
   "metadata": {
    "ExecuteTime": {
     "end_time": "2025-02-19T21:00:07.931588Z",
     "start_time": "2025-02-19T21:00:07.923156Z"
    }
   },
   "cell_type": "code",
   "source": [
    "## for each of the season, fit various survival analysis models\n",
    "\n",
    "def fit_weibull_aft_model_for_season_pitch_level(season_year, recurrence):\n",
    "    # read in the survival dataframe for the season\n",
    "    survival_df_time_invariant_pitch_level_season = pd.read_csv(f\"../Survival-Dataframes/Time-Invariant/survival_df_{season_year}_time_invariant_pitch_level.csv\")\n",
    "\n",
    "    survival_df_time_invariant_pitch_level_season_to_fit = survival_df_time_invariant_pitch_level_season.drop(\n",
    "        columns=['player_name','previous_injury_date','next_injury_date'])\n",
    "\n",
    "    if not recurrence:\n",
    "        survival_df_time_invariant_pitch_level_season_to_fit.drop(columns=['recurrence'],inplace=True)\n",
    "\n",
    "    weibull_aft_model = WeibullAFTFitter()\n",
    "    weibull_aft_model.fit(survival_df_time_invariant_pitch_level_season_to_fit,event_col=\"EVENT\", duration_col=\"num_pitches\")\n",
    "\n",
    "    #weibull_aft_model.print_summary()\n",
    "\n",
    "    #plt.figure()\n",
    "    #weibull_aft_model.plot()\n",
    "    #plt.title(f\"Weibull AFT model for season {season_year}\")\n",
    "\n",
    "    return weibull_aft_model"
   ],
   "id": "19577790ba59e252",
   "outputs": [],
   "execution_count": 2
  },
  {
   "metadata": {
    "ExecuteTime": {
     "end_time": "2025-02-19T21:00:08.002971Z",
     "start_time": "2025-02-19T21:00:07.995554Z"
    }
   },
   "cell_type": "code",
   "source": [
    "## evaluate the performance of the model on the held-out season\n",
    "def evaluate_weibull_aft_model_held_out_season_pitch_level(weibull_aft_model, held_out_season_year, recurrence):\n",
    "\n",
    "    # survival dataframe for the held out season\n",
    "    survival_df_held_out_season_pitch_level_time_invariant = pd.read_csv(f\"../Survival-Dataframes/Time-Invariant/survival_df_{held_out_season_year}_time_invariant_pitch_level.csv\")\n",
    "\n",
    "    survival_df_time_invariant_pitch_level_season_to_fit = survival_df_held_out_season_pitch_level_time_invariant.drop(\n",
    "        columns=['player_name','previous_injury_date','next_injury_date'])\n",
    "    if not recurrence:\n",
    "        survival_df_time_invariant_pitch_level_season_to_fit.drop(columns=['recurrence'],inplace=True)\n",
    "\n",
    "    concordance_score = weibull_aft_model.score(survival_df_time_invariant_pitch_level_season_to_fit, scoring_method=\"concordance_index\")\n",
    "\n",
    "    return concordance_score"
   ],
   "id": "aab6ea841d0bdaba",
   "outputs": [],
   "execution_count": 3
  },
  {
   "metadata": {
    "ExecuteTime": {
     "end_time": "2025-02-19T21:00:08.469673Z",
     "start_time": "2025-02-19T21:00:08.012018Z"
    }
   },
   "cell_type": "code",
   "source": [
    "weibull_aft_2020_pitch_level = fit_weibull_aft_model_for_season_pitch_level(\"2020\", False)\n",
    "concordance_score_held_out_2021_season_weibull_aft_pitch_level = round(evaluate_weibull_aft_model_held_out_season_pitch_level(weibull_aft_2020_pitch_level, \"2021\", recurrence=False),2)\n",
    "print(f\"The Concordance Index of the pitch-level Weibull AFT model fitted on the 2020 season on the held out 2021 season is {concordance_score_held_out_2021_season_weibull_aft_pitch_level}\")"
   ],
   "id": "75d408476956005c",
   "outputs": [
    {
     "name": "stdout",
     "output_type": "stream",
     "text": [
      "The Concordance Index of the pitch-level Weibull AFT model fitted on the 2020 season on the held out 2021 season is 0.63\n"
     ]
    }
   ],
   "execution_count": 4
  },
  {
   "metadata": {
    "ExecuteTime": {
     "end_time": "2025-02-19T21:00:09.290814Z",
     "start_time": "2025-02-19T21:00:08.482768Z"
    }
   },
   "cell_type": "code",
   "source": [
    "weibull_aft_2020_pitch_level_recurrence = fit_weibull_aft_model_for_season_pitch_level(\"2021\", True)\n",
    "\n",
    "concordance_score_held_out_2021_season_weibull_aft_pitch_level_recurrence = round(evaluate_weibull_aft_model_held_out_season_pitch_level(weibull_aft_2020_pitch_level_recurrence, \"2021\",  recurrence=True),2)\n",
    "print(f\"The Concordance Index of the pitch-level Weibull AFT model with recurrence fitted on the 2020 season on the held out 2021 season is {concordance_score_held_out_2021_season_weibull_aft_pitch_level_recurrence}\")"
   ],
   "id": "83bd33bdcb5a6f39",
   "outputs": [
    {
     "ename": "FileNotFoundError",
     "evalue": "[Errno 2] No such file or directory: '../Survival-Dataframes/Time-Invariant/survival_df_2021_time_invariant_pitch_level_recurrent.csv'",
     "output_type": "error",
     "traceback": [
      "\u001B[1;31m---------------------------------------------------------------------------\u001B[0m",
      "\u001B[1;31mFileNotFoundError\u001B[0m                         Traceback (most recent call last)",
      "Cell \u001B[1;32mIn[5], line 1\u001B[0m\n\u001B[1;32m----> 1\u001B[0m weibull_aft_2020_pitch_level_recurrence \u001B[38;5;241m=\u001B[39m fit_weibull_aft_model_for_season_pitch_level(\u001B[38;5;124m\"\u001B[39m\u001B[38;5;124m2021\u001B[39m\u001B[38;5;124m\"\u001B[39m, \u001B[38;5;28;01mTrue\u001B[39;00m)\n\u001B[0;32m      3\u001B[0m concordance_score_held_out_2021_season_weibull_aft_pitch_level_recurrence \u001B[38;5;241m=\u001B[39m \u001B[38;5;28mround\u001B[39m(evaluate_weibull_aft_model_held_out_season_pitch_level(weibull_aft_2020_pitch_level_recurrence, \u001B[38;5;124m\"\u001B[39m\u001B[38;5;124m2021\u001B[39m\u001B[38;5;124m\"\u001B[39m,  recurrence\u001B[38;5;241m=\u001B[39m\u001B[38;5;28;01mTrue\u001B[39;00m),\u001B[38;5;241m2\u001B[39m)\n\u001B[0;32m      4\u001B[0m \u001B[38;5;28mprint\u001B[39m(\u001B[38;5;124mf\u001B[39m\u001B[38;5;124m\"\u001B[39m\u001B[38;5;124mThe Concordance Index of the pitch-level Weibull AFT model with recurrence fitted on the 2020 season on the held out 2021 season is \u001B[39m\u001B[38;5;132;01m{\u001B[39;00mconcordance_score_held_out_2021_season_weibull_aft_pitch_level_recurrence\u001B[38;5;132;01m}\u001B[39;00m\u001B[38;5;124m\"\u001B[39m)\n",
      "Cell \u001B[1;32mIn[2], line 8\u001B[0m, in \u001B[0;36mfit_weibull_aft_model_for_season_pitch_level\u001B[1;34m(season_year, recurrence)\u001B[0m\n\u001B[0;32m      6\u001B[0m     survival_df_time_invariant_pitch_level_season \u001B[38;5;241m=\u001B[39m pd\u001B[38;5;241m.\u001B[39mread_csv(\u001B[38;5;124mf\u001B[39m\u001B[38;5;124m\"\u001B[39m\u001B[38;5;124m../Survival-Dataframes/Time-Invariant/survival_df_\u001B[39m\u001B[38;5;132;01m{\u001B[39;00mseason_year\u001B[38;5;132;01m}\u001B[39;00m\u001B[38;5;124m_time_invariant_pitch_level.csv\u001B[39m\u001B[38;5;124m\"\u001B[39m)\n\u001B[0;32m      7\u001B[0m \u001B[38;5;28;01melse\u001B[39;00m:\n\u001B[1;32m----> 8\u001B[0m     survival_df_time_invariant_pitch_level_season \u001B[38;5;241m=\u001B[39m pd\u001B[38;5;241m.\u001B[39mread_csv(\u001B[38;5;124mf\u001B[39m\u001B[38;5;124m\"\u001B[39m\u001B[38;5;124m../Survival-Dataframes/Time-Invariant/survival_df_\u001B[39m\u001B[38;5;132;01m{\u001B[39;00mseason_year\u001B[38;5;132;01m}\u001B[39;00m\u001B[38;5;124m_time_invariant_pitch_level_recurrent.csv\u001B[39m\u001B[38;5;124m\"\u001B[39m)\n\u001B[0;32m     10\u001B[0m survival_df_time_invariant_pitch_level_season_to_fit \u001B[38;5;241m=\u001B[39m survival_df_time_invariant_pitch_level_season\u001B[38;5;241m.\u001B[39mdrop(\n\u001B[0;32m     11\u001B[0m     columns\u001B[38;5;241m=\u001B[39m[\u001B[38;5;124m'\u001B[39m\u001B[38;5;124mplayer_name\u001B[39m\u001B[38;5;124m'\u001B[39m,\u001B[38;5;124m'\u001B[39m\u001B[38;5;124mprevious_injury_date\u001B[39m\u001B[38;5;124m'\u001B[39m,\u001B[38;5;124m'\u001B[39m\u001B[38;5;124mnext_injury_date\u001B[39m\u001B[38;5;124m'\u001B[39m])\n\u001B[0;32m     13\u001B[0m weibull_aft_model \u001B[38;5;241m=\u001B[39m WeibullAFTFitter()\n",
      "File \u001B[1;32m~\\anaconda3\\Lib\\site-packages\\pandas\\io\\parsers\\readers.py:1026\u001B[0m, in \u001B[0;36mread_csv\u001B[1;34m(filepath_or_buffer, sep, delimiter, header, names, index_col, usecols, dtype, engine, converters, true_values, false_values, skipinitialspace, skiprows, skipfooter, nrows, na_values, keep_default_na, na_filter, verbose, skip_blank_lines, parse_dates, infer_datetime_format, keep_date_col, date_parser, date_format, dayfirst, cache_dates, iterator, chunksize, compression, thousands, decimal, lineterminator, quotechar, quoting, doublequote, escapechar, comment, encoding, encoding_errors, dialect, on_bad_lines, delim_whitespace, low_memory, memory_map, float_precision, storage_options, dtype_backend)\u001B[0m\n\u001B[0;32m   1013\u001B[0m kwds_defaults \u001B[38;5;241m=\u001B[39m _refine_defaults_read(\n\u001B[0;32m   1014\u001B[0m     dialect,\n\u001B[0;32m   1015\u001B[0m     delimiter,\n\u001B[1;32m   (...)\u001B[0m\n\u001B[0;32m   1022\u001B[0m     dtype_backend\u001B[38;5;241m=\u001B[39mdtype_backend,\n\u001B[0;32m   1023\u001B[0m )\n\u001B[0;32m   1024\u001B[0m kwds\u001B[38;5;241m.\u001B[39mupdate(kwds_defaults)\n\u001B[1;32m-> 1026\u001B[0m \u001B[38;5;28;01mreturn\u001B[39;00m _read(filepath_or_buffer, kwds)\n",
      "File \u001B[1;32m~\\anaconda3\\Lib\\site-packages\\pandas\\io\\parsers\\readers.py:620\u001B[0m, in \u001B[0;36m_read\u001B[1;34m(filepath_or_buffer, kwds)\u001B[0m\n\u001B[0;32m    617\u001B[0m _validate_names(kwds\u001B[38;5;241m.\u001B[39mget(\u001B[38;5;124m\"\u001B[39m\u001B[38;5;124mnames\u001B[39m\u001B[38;5;124m\"\u001B[39m, \u001B[38;5;28;01mNone\u001B[39;00m))\n\u001B[0;32m    619\u001B[0m \u001B[38;5;66;03m# Create the parser.\u001B[39;00m\n\u001B[1;32m--> 620\u001B[0m parser \u001B[38;5;241m=\u001B[39m TextFileReader(filepath_or_buffer, \u001B[38;5;241m*\u001B[39m\u001B[38;5;241m*\u001B[39mkwds)\n\u001B[0;32m    622\u001B[0m \u001B[38;5;28;01mif\u001B[39;00m chunksize \u001B[38;5;129;01mor\u001B[39;00m iterator:\n\u001B[0;32m    623\u001B[0m     \u001B[38;5;28;01mreturn\u001B[39;00m parser\n",
      "File \u001B[1;32m~\\anaconda3\\Lib\\site-packages\\pandas\\io\\parsers\\readers.py:1620\u001B[0m, in \u001B[0;36mTextFileReader.__init__\u001B[1;34m(self, f, engine, **kwds)\u001B[0m\n\u001B[0;32m   1617\u001B[0m     \u001B[38;5;28mself\u001B[39m\u001B[38;5;241m.\u001B[39moptions[\u001B[38;5;124m\"\u001B[39m\u001B[38;5;124mhas_index_names\u001B[39m\u001B[38;5;124m\"\u001B[39m] \u001B[38;5;241m=\u001B[39m kwds[\u001B[38;5;124m\"\u001B[39m\u001B[38;5;124mhas_index_names\u001B[39m\u001B[38;5;124m\"\u001B[39m]\n\u001B[0;32m   1619\u001B[0m \u001B[38;5;28mself\u001B[39m\u001B[38;5;241m.\u001B[39mhandles: IOHandles \u001B[38;5;241m|\u001B[39m \u001B[38;5;28;01mNone\u001B[39;00m \u001B[38;5;241m=\u001B[39m \u001B[38;5;28;01mNone\u001B[39;00m\n\u001B[1;32m-> 1620\u001B[0m \u001B[38;5;28mself\u001B[39m\u001B[38;5;241m.\u001B[39m_engine \u001B[38;5;241m=\u001B[39m \u001B[38;5;28mself\u001B[39m\u001B[38;5;241m.\u001B[39m_make_engine(f, \u001B[38;5;28mself\u001B[39m\u001B[38;5;241m.\u001B[39mengine)\n",
      "File \u001B[1;32m~\\anaconda3\\Lib\\site-packages\\pandas\\io\\parsers\\readers.py:1880\u001B[0m, in \u001B[0;36mTextFileReader._make_engine\u001B[1;34m(self, f, engine)\u001B[0m\n\u001B[0;32m   1878\u001B[0m     \u001B[38;5;28;01mif\u001B[39;00m \u001B[38;5;124m\"\u001B[39m\u001B[38;5;124mb\u001B[39m\u001B[38;5;124m\"\u001B[39m \u001B[38;5;129;01mnot\u001B[39;00m \u001B[38;5;129;01min\u001B[39;00m mode:\n\u001B[0;32m   1879\u001B[0m         mode \u001B[38;5;241m+\u001B[39m\u001B[38;5;241m=\u001B[39m \u001B[38;5;124m\"\u001B[39m\u001B[38;5;124mb\u001B[39m\u001B[38;5;124m\"\u001B[39m\n\u001B[1;32m-> 1880\u001B[0m \u001B[38;5;28mself\u001B[39m\u001B[38;5;241m.\u001B[39mhandles \u001B[38;5;241m=\u001B[39m get_handle(\n\u001B[0;32m   1881\u001B[0m     f,\n\u001B[0;32m   1882\u001B[0m     mode,\n\u001B[0;32m   1883\u001B[0m     encoding\u001B[38;5;241m=\u001B[39m\u001B[38;5;28mself\u001B[39m\u001B[38;5;241m.\u001B[39moptions\u001B[38;5;241m.\u001B[39mget(\u001B[38;5;124m\"\u001B[39m\u001B[38;5;124mencoding\u001B[39m\u001B[38;5;124m\"\u001B[39m, \u001B[38;5;28;01mNone\u001B[39;00m),\n\u001B[0;32m   1884\u001B[0m     compression\u001B[38;5;241m=\u001B[39m\u001B[38;5;28mself\u001B[39m\u001B[38;5;241m.\u001B[39moptions\u001B[38;5;241m.\u001B[39mget(\u001B[38;5;124m\"\u001B[39m\u001B[38;5;124mcompression\u001B[39m\u001B[38;5;124m\"\u001B[39m, \u001B[38;5;28;01mNone\u001B[39;00m),\n\u001B[0;32m   1885\u001B[0m     memory_map\u001B[38;5;241m=\u001B[39m\u001B[38;5;28mself\u001B[39m\u001B[38;5;241m.\u001B[39moptions\u001B[38;5;241m.\u001B[39mget(\u001B[38;5;124m\"\u001B[39m\u001B[38;5;124mmemory_map\u001B[39m\u001B[38;5;124m\"\u001B[39m, \u001B[38;5;28;01mFalse\u001B[39;00m),\n\u001B[0;32m   1886\u001B[0m     is_text\u001B[38;5;241m=\u001B[39mis_text,\n\u001B[0;32m   1887\u001B[0m     errors\u001B[38;5;241m=\u001B[39m\u001B[38;5;28mself\u001B[39m\u001B[38;5;241m.\u001B[39moptions\u001B[38;5;241m.\u001B[39mget(\u001B[38;5;124m\"\u001B[39m\u001B[38;5;124mencoding_errors\u001B[39m\u001B[38;5;124m\"\u001B[39m, \u001B[38;5;124m\"\u001B[39m\u001B[38;5;124mstrict\u001B[39m\u001B[38;5;124m\"\u001B[39m),\n\u001B[0;32m   1888\u001B[0m     storage_options\u001B[38;5;241m=\u001B[39m\u001B[38;5;28mself\u001B[39m\u001B[38;5;241m.\u001B[39moptions\u001B[38;5;241m.\u001B[39mget(\u001B[38;5;124m\"\u001B[39m\u001B[38;5;124mstorage_options\u001B[39m\u001B[38;5;124m\"\u001B[39m, \u001B[38;5;28;01mNone\u001B[39;00m),\n\u001B[0;32m   1889\u001B[0m )\n\u001B[0;32m   1890\u001B[0m \u001B[38;5;28;01massert\u001B[39;00m \u001B[38;5;28mself\u001B[39m\u001B[38;5;241m.\u001B[39mhandles \u001B[38;5;129;01mis\u001B[39;00m \u001B[38;5;129;01mnot\u001B[39;00m \u001B[38;5;28;01mNone\u001B[39;00m\n\u001B[0;32m   1891\u001B[0m f \u001B[38;5;241m=\u001B[39m \u001B[38;5;28mself\u001B[39m\u001B[38;5;241m.\u001B[39mhandles\u001B[38;5;241m.\u001B[39mhandle\n",
      "File \u001B[1;32m~\\anaconda3\\Lib\\site-packages\\pandas\\io\\common.py:873\u001B[0m, in \u001B[0;36mget_handle\u001B[1;34m(path_or_buf, mode, encoding, compression, memory_map, is_text, errors, storage_options)\u001B[0m\n\u001B[0;32m    868\u001B[0m \u001B[38;5;28;01melif\u001B[39;00m \u001B[38;5;28misinstance\u001B[39m(handle, \u001B[38;5;28mstr\u001B[39m):\n\u001B[0;32m    869\u001B[0m     \u001B[38;5;66;03m# Check whether the filename is to be opened in binary mode.\u001B[39;00m\n\u001B[0;32m    870\u001B[0m     \u001B[38;5;66;03m# Binary mode does not support 'encoding' and 'newline'.\u001B[39;00m\n\u001B[0;32m    871\u001B[0m     \u001B[38;5;28;01mif\u001B[39;00m ioargs\u001B[38;5;241m.\u001B[39mencoding \u001B[38;5;129;01mand\u001B[39;00m \u001B[38;5;124m\"\u001B[39m\u001B[38;5;124mb\u001B[39m\u001B[38;5;124m\"\u001B[39m \u001B[38;5;129;01mnot\u001B[39;00m \u001B[38;5;129;01min\u001B[39;00m ioargs\u001B[38;5;241m.\u001B[39mmode:\n\u001B[0;32m    872\u001B[0m         \u001B[38;5;66;03m# Encoding\u001B[39;00m\n\u001B[1;32m--> 873\u001B[0m         handle \u001B[38;5;241m=\u001B[39m \u001B[38;5;28mopen\u001B[39m(\n\u001B[0;32m    874\u001B[0m             handle,\n\u001B[0;32m    875\u001B[0m             ioargs\u001B[38;5;241m.\u001B[39mmode,\n\u001B[0;32m    876\u001B[0m             encoding\u001B[38;5;241m=\u001B[39mioargs\u001B[38;5;241m.\u001B[39mencoding,\n\u001B[0;32m    877\u001B[0m             errors\u001B[38;5;241m=\u001B[39merrors,\n\u001B[0;32m    878\u001B[0m             newline\u001B[38;5;241m=\u001B[39m\u001B[38;5;124m\"\u001B[39m\u001B[38;5;124m\"\u001B[39m,\n\u001B[0;32m    879\u001B[0m         )\n\u001B[0;32m    880\u001B[0m     \u001B[38;5;28;01melse\u001B[39;00m:\n\u001B[0;32m    881\u001B[0m         \u001B[38;5;66;03m# Binary mode\u001B[39;00m\n\u001B[0;32m    882\u001B[0m         handle \u001B[38;5;241m=\u001B[39m \u001B[38;5;28mopen\u001B[39m(handle, ioargs\u001B[38;5;241m.\u001B[39mmode)\n",
      "\u001B[1;31mFileNotFoundError\u001B[0m: [Errno 2] No such file or directory: '../Survival-Dataframes/Time-Invariant/survival_df_2021_time_invariant_pitch_level_recurrent.csv'"
     ]
    }
   ],
   "execution_count": 5
  },
  {
   "metadata": {
    "ExecuteTime": {
     "end_time": "2025-02-19T21:00:09.300372400Z",
     "start_time": "2025-02-09T15:21:01.858469Z"
    }
   },
   "cell_type": "code",
   "source": [
    "weibull_aft_2021_pitch_level = fit_weibull_aft_model_for_season_pitch_level(\"2021\", recurrence=False)\n",
    "concordance_score_held_out_2022_season_weibull_aft_pitch_level = round(evaluate_weibull_aft_model_held_out_season_pitch_level(weibull_aft_2021_pitch_level, \"2022\", recurrence=False),2)\n",
    "print(f\"The Concordance Index of the pitch-level Weibull AFT model fitted on the 2021 season on the held out 2022 season is {concordance_score_held_out_2022_season_weibull_aft_pitch_level}\")"
   ],
   "id": "eb2ddbb1be2c55ff",
   "outputs": [
    {
     "name": "stdout",
     "output_type": "stream",
     "text": [
      "The Concordance Index of the pitch-level Weibull AFT model fitted on the 2021 season on the held out 2022 season is 0.57\n"
     ]
    }
   ],
   "execution_count": 6
  },
  {
   "metadata": {
    "ExecuteTime": {
     "end_time": "2025-02-19T21:00:09.302827Z",
     "start_time": "2025-02-09T15:21:02.186317Z"
    }
   },
   "cell_type": "code",
   "source": [
    "weibull_aft_2021_pitch_level_recurrence = fit_weibull_aft_model_for_season_pitch_level(\"2021\", recurrence=True)\n",
    "concordance_score_held_out_2022_season_weibull_aft_pitch_level_recurrent = round(evaluate_weibull_aft_model_held_out_season_pitch_level(weibull_aft_2021_pitch_level_recurrence, \"2022\", recurrence=True),2)\n",
    "print(f\"The Concordance Index of the pitch-level Weibull AFT model with recurrence fitted on the 2021 season on the held out 2022 season is {concordance_score_held_out_2022_season_weibull_aft_pitch_level_recurrent}\")"
   ],
   "id": "4ced4510f1979a6c",
   "outputs": [
    {
     "name": "stdout",
     "output_type": "stream",
     "text": [
      "The Concordance Index of the pitch-level Weibull AFT model with recurrence fitted on the 2021 season on the held out 2022 season is 0.65\n"
     ]
    }
   ],
   "execution_count": 7
  },
  {
   "metadata": {
    "ExecuteTime": {
     "end_time": "2025-02-19T21:00:09.302827Z",
     "start_time": "2025-02-09T15:21:02.577187Z"
    }
   },
   "cell_type": "code",
   "source": [
    "weibull_aft_2022_pitch_level = fit_weibull_aft_model_for_season_pitch_level(\"2022\",recurrence=False)\n",
    "concordance_score_held_out_2023_season_weibull_aft_pitch_level = round(evaluate_weibull_aft_model_held_out_season_pitch_level(weibull_aft_2022_pitch_level, \"2023\", recurrence=False),2)\n",
    "print(f\"The Concordance Index of the pitch-level Weibull AFT model fitted on the 2022 season on the held out 2023 season is {concordance_score_held_out_2023_season_weibull_aft_pitch_level}\")"
   ],
   "id": "4b70868834e41c9e",
   "outputs": [
    {
     "name": "stdout",
     "output_type": "stream",
     "text": [
      "The Concordance Index of the pitch-level Weibull AFT model fitted on the 2022 season on the held out 2023 season is 0.59\n"
     ]
    }
   ],
   "execution_count": 8
  },
  {
   "metadata": {
    "ExecuteTime": {
     "end_time": "2025-02-19T21:00:09.302827Z",
     "start_time": "2025-02-09T15:21:02.946566Z"
    }
   },
   "cell_type": "code",
   "source": [
    "weibull_aft_2022_pitch_level_recurrence = fit_weibull_aft_model_for_season_pitch_level(\"2022\", recurrence=True)\n",
    "concordance_score_held_out_2023_season_weibull_aft_pitch_level_recurrence = round(evaluate_weibull_aft_model_held_out_season_pitch_level(weibull_aft_2022_pitch_level_recurrence, \"2023\", recurrence=True),2)\n",
    "print(f\"The Concordance Index of the pitch-level Weibull AFT model with recurrence fitted on the 2022 season on the held out 2023 season is {concordance_score_held_out_2023_season_weibull_aft_pitch_level_recurrence}\")"
   ],
   "id": "2b2d2a7ab3bcd081",
   "outputs": [
    {
     "name": "stdout",
     "output_type": "stream",
     "text": [
      "The Concordance Index of the pitch-level Weibull AFT model with recurrence fitted on the 2022 season on the held out 2023 season is 0.66\n"
     ]
    }
   ],
   "execution_count": 9
  },
  {
   "metadata": {
    "ExecuteTime": {
     "end_time": "2025-02-19T21:00:09.302827Z",
     "start_time": "2025-02-09T15:21:03.379561Z"
    }
   },
   "cell_type": "code",
   "source": [
    "weibull_aft_2023_pitch_level = fit_weibull_aft_model_for_season_pitch_level(\"2023\",recurrence=False)\n",
    "concordance_score_held_out_2024_season_weibull_aft_pitch_level = round(evaluate_weibull_aft_model_held_out_season_pitch_level(weibull_aft_2023_pitch_level, \"2024\",recurrence=False),2)\n",
    "print(f\"The Concordance Index of the pitch-level Weibull AFT model fitted on the 2023 season on the held out 2024 season is {concordance_score_held_out_2024_season_weibull_aft_pitch_level}\")"
   ],
   "id": "a51ef863f062ca48",
   "outputs": [
    {
     "name": "stdout",
     "output_type": "stream",
     "text": [
      "The Concordance Index of the pitch-level Weibull AFT model fitted on the 2023 season on the held out 2024 season is 0.54\n"
     ]
    }
   ],
   "execution_count": 10
  },
  {
   "metadata": {
    "ExecuteTime": {
     "end_time": "2025-02-19T21:00:09.310327500Z",
     "start_time": "2025-02-09T15:21:03.748470Z"
    }
   },
   "cell_type": "code",
   "source": [
    "weibull_aft_2023_pitch_level_recurrence = fit_weibull_aft_model_for_season_pitch_level(\"2024\",recurrence=True)\n",
    "\n",
    "concordance_score_held_out_2024_season_weibull_aft_pitch_level_recurrence = round(evaluate_weibull_aft_model_held_out_season_pitch_level(weibull_aft_2023_pitch_level_recurrence, \"2024\",recurrence=True),2)\n",
    "print(f\"The Concordance Index of the pitch-level Weibull AFT model with recurrence fitted on the 2023 season on the held out 2024 season is {concordance_score_held_out_2024_season_weibull_aft_pitch_level_recurrence}\")"
   ],
   "id": "a686df0481523094",
   "outputs": [
    {
     "name": "stdout",
     "output_type": "stream",
     "text": [
      "The Concordance Index of the pitch-level Weibull AFT model with recurrence fitted on the 2023 season on the held out 2024 season is 0.67\n"
     ]
    },
    {
     "name": "stderr",
     "output_type": "stream",
     "text": [
      "C:\\Users\\peiyu\\anaconda3\\Lib\\site-packages\\pandas\\core\\arraylike.py:399: RuntimeWarning: overflow encountered in exp\n",
      "  result = getattr(ufunc, method)(*inputs, **kwargs)\n",
      "C:\\Users\\peiyu\\anaconda3\\Lib\\site-packages\\pandas\\core\\arraylike.py:399: RuntimeWarning: overflow encountered in exp\n",
      "  result = getattr(ufunc, method)(*inputs, **kwargs)\n"
     ]
    }
   ],
   "execution_count": 11
  },
  {
   "metadata": {},
   "cell_type": "markdown",
   "source": "## Game-Level Weibull AFT model",
   "id": "70817dc36866c857"
  },
  {
   "metadata": {
    "ExecuteTime": {
     "end_time": "2025-02-19T21:00:09.310327500Z",
     "start_time": "2025-02-09T15:21:04.144639Z"
    }
   },
   "cell_type": "code",
   "source": [
    "def fit_weibull_aft_model_for_season_game_level(season_year, recurrence):\n",
    "    # read in the survival dataframe for the season\n",
    "    survival_df_time_invariant_game_level_season = pd.read_csv(f\"../Survival-Dataframes/Time-Invariant/survival_df_{season_year}_time_invariant_game_level.csv\")\n",
    "\n",
    "    survival_df_time_invariant_game_level_season_to_fit = survival_df_time_invariant_game_level_season.drop(\n",
    "        columns=['player_name','previous_injury_date','next_injury_date'])\n",
    "\n",
    "    if not recurrence:\n",
    "        survival_df_time_invariant_game_level_season_to_fit.drop(columns=['recurrence'],inplace=True)\n",
    "    weibull_aft_model = WeibullAFTFitter()\n",
    "    weibull_aft_model.fit(survival_df_time_invariant_game_level_season_to_fit,event_col=\"EVENT\", duration_col=\"num_games\")\n",
    "\n",
    "    #weibull_aft_model.print_summary()\n",
    "\n",
    "    #plt.figure()\n",
    "    #weibull_aft_model.plot()\n",
    "    #plt.title(f\"Weibull AFT model for season {season_year}\")\n",
    "\n",
    "    return weibull_aft_model"
   ],
   "id": "b44ebec7ca70cc7f",
   "outputs": [],
   "execution_count": 12
  },
  {
   "metadata": {
    "ExecuteTime": {
     "end_time": "2025-02-19T21:00:09.310327500Z",
     "start_time": "2025-02-09T15:21:04.181179Z"
    }
   },
   "cell_type": "code",
   "source": [
    "## evaluate the performance of the model on the held-out season\n",
    "def evaluate_weibull_aft_model_held_out_season_game_level(weibull_aft_model, held_out_season_year, recurrence):\n",
    "\n",
    "    # survival dataframe for the held out season\n",
    "    survival_df_held_out_season_game_level_time_invariant = pd.read_csv(f\"../Survival-Dataframes/Time-Invariant/survival_df_{held_out_season_year}_time_invariant_game_level.csv\")\n",
    "\n",
    "    survival_df_time_invariant_game_level_season_to_fit = survival_df_held_out_season_game_level_time_invariant.drop(\n",
    "        columns=['player_name','previous_injury_date','next_injury_date'])\n",
    "\n",
    "    if not recurrence:\n",
    "        survival_df_time_invariant_game_level_season_to_fit.drop(columns=['recurrence'],inplace=True)\n",
    "\n",
    "    concordance_score = weibull_aft_model.score(survival_df_time_invariant_game_level_season_to_fit, scoring_method=\"concordance_index\")\n",
    "\n",
    "    return concordance_score"
   ],
   "id": "984980c1c68864e4",
   "outputs": [],
   "execution_count": 13
  },
  {
   "metadata": {
    "ExecuteTime": {
     "end_time": "2025-02-19T21:00:09.313750100Z",
     "start_time": "2025-02-09T15:21:04.197114Z"
    }
   },
   "cell_type": "code",
   "source": [
    "weibull_aft_2020_game_level = fit_weibull_aft_model_for_season_game_level(\"2020\", False)\n",
    "concordance_score_held_out_2021_season_weibull_aft_game_level = round(evaluate_weibull_aft_model_held_out_season_game_level(weibull_aft_2020_game_level, \"2021\", recurrence=False),2)\n",
    "print(f\"The Concordance Index of the game-level Weibull AFT model fitted on the 2020 season on the held out 2021 season is {concordance_score_held_out_2021_season_weibull_aft_game_level}\")"
   ],
   "id": "c861a4e2cafa331d",
   "outputs": [
    {
     "name": "stdout",
     "output_type": "stream",
     "text": [
      "The Concordance Index of the game-level Weibull AFT model fitted on the 2020 season on the held out 2021 season is 0.57\n"
     ]
    }
   ],
   "execution_count": 14
  },
  {
   "metadata": {
    "ExecuteTime": {
     "end_time": "2025-02-19T21:00:09.313750100Z",
     "start_time": "2025-02-09T15:21:04.574331Z"
    }
   },
   "cell_type": "code",
   "source": [
    "weibull_aft_2020_game_level_recurrence = fit_weibull_aft_model_for_season_game_level(\"2020\", True)\n",
    "concordance_score_held_out_2021_season_weibull_aft_game_level_recurrence = round(evaluate_weibull_aft_model_held_out_season_game_level(weibull_aft_2020_game_level_recurrence, \"2021\", recurrence=True),2)\n",
    "print(f\"The Concordance Index of the game-level Weibull AFT model with recurrence fitted on the 2020 season on the held out 2021 season is {concordance_score_held_out_2021_season_weibull_aft_game_level_recurrence}\")"
   ],
   "id": "212649bae3ad2b14",
   "outputs": [
    {
     "name": "stdout",
     "output_type": "stream",
     "text": [
      "The Concordance Index of the game-level Weibull AFT model with recurrence fitted on the 2020 season on the held out 2021 season is 0.63\n"
     ]
    }
   ],
   "execution_count": 15
  },
  {
   "metadata": {
    "ExecuteTime": {
     "end_time": "2025-02-19T21:00:09.313750100Z",
     "start_time": "2025-02-09T15:21:04.989649Z"
    }
   },
   "cell_type": "code",
   "source": [
    "weibull_aft_2021_game_level = fit_weibull_aft_model_for_season_game_level(\"2021\", False)\n",
    "concordance_score_held_out_2022_season_weibull_aft_game_level = round(evaluate_weibull_aft_model_held_out_season_game_level(weibull_aft_2021_game_level, \"2022\", recurrence=False),2)\n",
    "print(f\"The Concordance Index of the game-level Weibull AFT model fitted on the 2021 season on the held out 2022 season is {concordance_score_held_out_2022_season_weibull_aft_game_level}\")"
   ],
   "id": "eca70424e0f2afa2",
   "outputs": [
    {
     "name": "stdout",
     "output_type": "stream",
     "text": [
      "The Concordance Index of the game-level Weibull AFT model fitted on the 2021 season on the held out 2022 season is 0.59\n"
     ]
    }
   ],
   "execution_count": 16
  },
  {
   "metadata": {
    "ExecuteTime": {
     "end_time": "2025-02-19T21:00:09.313750100Z",
     "start_time": "2025-02-09T15:21:05.428607Z"
    }
   },
   "cell_type": "code",
   "source": [
    "weibull_aft_2021_game_level_recurrence = fit_weibull_aft_model_for_season_game_level(\"2021\", True)\n",
    "concordance_score_held_out_2022_season_weibull_aft_game_level_recurrence = round(evaluate_weibull_aft_model_held_out_season_game_level(weibull_aft_2021_game_level_recurrence, \"2022\", recurrence=True),2)\n",
    "print(f\"The Concordance Index of the game-level Weibull AFT model with recurrence fitted on the 2021 season on the held out 2022 season is {concordance_score_held_out_2022_season_weibull_aft_game_level_recurrence}\")"
   ],
   "id": "4e977b1800d6f896",
   "outputs": [
    {
     "name": "stdout",
     "output_type": "stream",
     "text": [
      "The Concordance Index of the game-level Weibull AFT model with recurrence fitted on the 2021 season on the held out 2022 season is 0.63\n"
     ]
    }
   ],
   "execution_count": 17
  },
  {
   "metadata": {
    "ExecuteTime": {
     "end_time": "2025-02-19T21:00:09.313750100Z",
     "start_time": "2025-02-09T15:21:05.756205Z"
    }
   },
   "cell_type": "code",
   "source": [
    "weibull_aft_2022_game_level = fit_weibull_aft_model_for_season_game_level(\"2022\", False)\n",
    "concordance_score_held_out_2023_season_weibull_aft_game_level = round(evaluate_weibull_aft_model_held_out_season_game_level(weibull_aft_2022_game_level, \"2023\", recurrence=False),2)\n",
    "print(f\"The Concordance Index of the game-level Weibull AFT model fitted on the 2022 season on the held out 2023 season is {concordance_score_held_out_2023_season_weibull_aft_game_level}\")"
   ],
   "id": "a96365ce46513d6f",
   "outputs": [
    {
     "name": "stdout",
     "output_type": "stream",
     "text": [
      "The Concordance Index of the game-level Weibull AFT model fitted on the 2022 season on the held out 2023 season is 0.61\n"
     ]
    }
   ],
   "execution_count": 18
  },
  {
   "metadata": {
    "ExecuteTime": {
     "end_time": "2025-02-19T21:00:09.313750100Z",
     "start_time": "2025-02-09T15:21:06.120840Z"
    }
   },
   "cell_type": "code",
   "source": [
    "weibull_aft_2022_game_level_recurrence = fit_weibull_aft_model_for_season_game_level(\"2022\", True)\n",
    "concordance_score_held_out_2023_season_weibull_aft_game_level_recurrence = round(evaluate_weibull_aft_model_held_out_season_game_level(weibull_aft_2022_game_level_recurrence, \"2023\", recurrence=True),2)\n",
    "print(f\"The Concordance Index of the game-level Weibull AFT model with recurrence fitted on the 2022 season on the held out 2023 season is {concordance_score_held_out_2023_season_weibull_aft_game_level_recurrence}\")"
   ],
   "id": "797fc0230d18d6b6",
   "outputs": [
    {
     "name": "stdout",
     "output_type": "stream",
     "text": [
      "The Concordance Index of the game-level Weibull AFT model with recurrence fitted on the 2022 season on the held out 2023 season is 0.66\n"
     ]
    }
   ],
   "execution_count": 19
  },
  {
   "metadata": {
    "ExecuteTime": {
     "end_time": "2025-02-19T21:00:09.313750100Z",
     "start_time": "2025-02-09T15:21:06.489758Z"
    }
   },
   "cell_type": "code",
   "source": [
    "weibull_aft_2023_game_level = fit_weibull_aft_model_for_season_game_level(\"2023\", False)\n",
    "concordance_score_held_out_2024_season_weibull_aft_game_level = round(evaluate_weibull_aft_model_held_out_season_game_level(weibull_aft_2023_game_level, \"2024\", recurrence=False),2)\n",
    "print(f\"The Concordance Index of the game-level Weibull AFT model fitted on the 2023 season on the held out 2024 season is {concordance_score_held_out_2024_season_weibull_aft_game_level}\")"
   ],
   "id": "d8ad6521a9467276",
   "outputs": [
    {
     "name": "stdout",
     "output_type": "stream",
     "text": [
      "The Concordance Index of the game-level Weibull AFT model fitted on the 2023 season on the held out 2024 season is 0.6\n"
     ]
    }
   ],
   "execution_count": 20
  },
  {
   "metadata": {
    "ExecuteTime": {
     "end_time": "2025-02-19T21:00:09.313750100Z",
     "start_time": "2025-02-09T15:21:06.854189Z"
    }
   },
   "cell_type": "code",
   "source": [
    "weibull_aft_2023_game_level_recurrence = fit_weibull_aft_model_for_season_game_level(\"2023\", True)\n",
    "concordance_score_held_out_2024_season_weibull_aft_game_level_recurrence = round(evaluate_weibull_aft_model_held_out_season_game_level(weibull_aft_2023_game_level_recurrence, \"2024\", recurrence=True),2)\n",
    "print(f\"The Concordance Index of the game-level Weibull AFT model with recurrence fitted on the 2023 season on the held out 2024 season is {concordance_score_held_out_2024_season_weibull_aft_game_level_recurrence}\")"
   ],
   "id": "2a5239d0e12aa083",
   "outputs": [
    {
     "name": "stdout",
     "output_type": "stream",
     "text": [
      "The Concordance Index of the game-level Weibull AFT model with recurrence fitted on the 2023 season on the held out 2024 season is 0.66\n"
     ]
    }
   ],
   "execution_count": 21
  }
 ],
 "metadata": {
  "kernelspec": {
   "display_name": "Python 3",
   "language": "python",
   "name": "python3"
  },
  "language_info": {
   "codemirror_mode": {
    "name": "ipython",
    "version": 2
   },
   "file_extension": ".py",
   "mimetype": "text/x-python",
   "name": "python",
   "nbconvert_exporter": "python",
   "pygments_lexer": "ipython2",
   "version": "2.7.6"
  }
 },
 "nbformat": 4,
 "nbformat_minor": 5
}
